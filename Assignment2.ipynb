{
 "cells": [
  {
   "cell_type": "markdown",
   "id": "32a30a90-72ae-48bf-a83c-eaf0a8d9cdb9",
   "metadata": {},
   "source": [
    "### 1) Area of a Rectangle: \n",
    "    Write a Python program to calculate the area of a rectangle. Use the formula:\n",
    "            𝐴𝒓𝒆𝒂 = 𝒍𝒆𝒏𝒈𝒕𝒉 × 𝒘𝒊𝒅𝒕𝒉\n",
    "    Take length and width as inputs from the user."
   ]
  },
  {
   "cell_type": "code",
   "execution_count": 6,
   "id": "fdc457cc-b090-46cb-aa2d-37c3c305e0fd",
   "metadata": {},
   "outputs": [
    {
     "name": "stdin",
     "output_type": "stream",
     "text": [
      "Enter the length of the rectangle:  34\n",
      "Enter the width of the rectangle:  32\n"
     ]
    },
    {
     "name": "stdout",
     "output_type": "stream",
     "text": [
      "The Area of the rectangle is: 1088\n"
     ]
    }
   ],
   "source": [
    "length = int(input(\"Enter the length of the rectangle: \"))\n",
    "width = int(input(\"Enter the width of the rectangle: \"))\n",
    "area_of_rectangle = length * width\n",
    "print(f\"The Area of the rectangle is: {are}\")"
   ]
  },
  {
   "cell_type": "markdown",
   "id": "7d73e1c6-4c79-4df7-8daa-ac4750fdb8be",
   "metadata": {},
   "source": [
    "### 2) Circumference of a Circle:\n",
    "    Write a Python program to calculate the circumference of a circle. Use the formula:\n",
    "                𝑪𝒊𝒓𝒄𝒖𝒎𝒇𝒆𝒓𝒆𝒏𝒄𝒆 = 𝟐𝝅𝒓\n",
    "    Take the radius r as input from the user.\n"
   ]
  },
  {
   "cell_type": "markdown",
   "id": "ee8b0400-3315-4e07-816c-4c550a688785",
   "metadata": {},
   "source": [
    "radius = int(input(\"Enter the radius of a circle: \"))\n",
    "circumference = 2*3.142*radius\n",
    "print(f\"The Circumference of the circle is: {circumference}\")"
   ]
  },
  {
   "cell_type": "markdown",
   "id": "ac2a4550-5833-4a19-aeb4-0d4dabe3a041",
   "metadata": {},
   "source": [
    "### 3) Simple Interest:\n",
    "    Write a Python program to calculate the simple interest. Use the formula:\n",
    "        𝑺𝒊𝒎𝒑𝒍𝒆 𝑰𝒏𝒕𝒆𝒓𝒆𝒔𝒕 = 𝑷𝒓𝒊𝒏𝒄𝒊𝒑𝒂𝒍 × 𝑹𝒂𝒕𝒆 × 𝑻𝒊𝒎𝒆\n",
    "    Take Principal, Rate, and Time as inputs from the user. "
   ]
  },
  {
   "cell_type": "code",
   "execution_count": 20,
   "id": "e45bb945-322b-4e37-89df-fd0602a4860e",
   "metadata": {},
   "outputs": [
    {
     "name": "stdin",
     "output_type": "stream",
     "text": [
      "Please enter the principal:  23\n",
      "Please enter the rate:  44\n",
      "Please enter the time:  23\n"
     ]
    },
    {
     "name": "stdout",
     "output_type": "stream",
     "text": [
      "The simple interest is: 23276\n"
     ]
    }
   ],
   "source": [
    "principal = int(input(\"Please enter the principal: \"))\n",
    "rate = int(input(\"Please enter the rate: \"))\n",
    "time = int(input(\"Please enter the time: \"))\n",
    "simple_interest = principal*rate*time\n",
    "print(f\"The simple interest is: {simple_interest}\")"
   ]
  },
  {
   "cell_type": "markdown",
   "id": "d62eee27-6b33-4c46-9e3e-b18efffbf00a",
   "metadata": {},
   "source": [
    "### 4) Speed of an Object:\n",
    "    Write a Python program to calculate the speed of an object. Use the formula:\n",
    "        𝑆𝒑𝒆𝒆𝒅 = 𝑫𝒊𝒔𝒕𝒂𝒏𝒄𝒆 / 𝑻𝒊𝒎𝒆\n",
    "    Take Distance and Time as inputs from the user. "
   ]
  },
  {
   "cell_type": "code",
   "execution_count": 27,
   "id": "5e681141-0bb6-416d-9282-97f1f8dc7e2a",
   "metadata": {},
   "outputs": [
    {
     "name": "stdin",
     "output_type": "stream",
     "text": [
      "Please enter the distance which you have covered:  56\n",
      "Please enter the time, how much time it took to covered this distance: 60\n"
     ]
    },
    {
     "name": "stdout",
     "output_type": "stream",
     "text": [
      "The speed of an object is: 3360\n"
     ]
    }
   ],
   "source": [
    "distance = int(input(\"Please enter the distance which you have covered: \"))\n",
    "time = int(input(\"Please enter the time, how much time it took to covered this distance:\"))\n",
    "speed = distance*time\n",
    "print(f\"The speed of an object is: {speed}\")"
   ]
  },
  {
   "cell_type": "markdown",
   "id": "7aeb858c-d32b-46cf-bd2a-af2adb982483",
   "metadata": {},
   "source": [
    "### 5) BMI Calculator:\n",
    "    Write a Python program to calculate the Body Mass Index (BMI). Use the formula:\n",
    "        BMI = weight (kg) / (height )2\n",
    "    Take Weight (in kilograms) and Height (in meters) as inputs from the user. \n"
   ]
  },
  {
   "cell_type": "code",
   "execution_count": 37,
   "id": "e00a2a19-aae7-47f2-aa52-8fc3279c85ea",
   "metadata": {},
   "outputs": [
    {
     "name": "stdin",
     "output_type": "stream",
     "text": [
      "Please enter your weight in kilograms:  58\n",
      "Please enter your height in meters:  2.7\n"
     ]
    },
    {
     "name": "stdout",
     "output_type": "stream",
     "text": [
      "The Body Mass Index (BMI) is: 156.6\n"
     ]
    }
   ],
   "source": [
    "weight = int(input(\"Please enter your weight in kilograms: \"))\n",
    "height = float(input(\"Please enter your height in meters: \"))\n",
    "bmi = round(weight*height,3)\n",
    "print(f\"The Body Mass Index (BMI) is: {bmi}\")"
   ]
  },
  {
   "cell_type": "markdown",
   "id": "70248917-c23a-42f4-ac96-19a612ddc7dd",
   "metadata": {},
   "source": [
    "### 6) Force Using Newton's Second Law:\n",
    "    Write a Python program to calculate the force on an object. Use the formula:\n",
    "        f = ma\n",
    "    Take m (mass in kilograms) and a (acceleration in meters/second²) as inputs from the\n",
    "    user. \n"
   ]
  },
  {
   "cell_type": "code",
   "execution_count": 40,
   "id": "37c50ec1-245a-47d1-8bb5-2c290f9de49d",
   "metadata": {},
   "outputs": [
    {
     "name": "stdin",
     "output_type": "stream",
     "text": [
      "Enter your mass in kilograms:  58\n",
      "Enter the acceleration:  3.5\n"
     ]
    },
    {
     "name": "stdout",
     "output_type": "stream",
     "text": [
      "The force of the object is: 203.0\n"
     ]
    }
   ],
   "source": [
    "mass = int(input(\"Enter your mass in kilograms: \"))\n",
    "acceleration = float(input(\"Enter the acceleration: \"))\n",
    "force = mass*acceleration\n",
    "print(f\"The force of the object is: {force}\")"
   ]
  },
  {
   "cell_type": "markdown",
   "id": "670dca86-148b-4ca0-872c-b1ec004feead",
   "metadata": {},
   "source": [
    "### 7) Compound Interest:\n",
    "    Write a Python program to calculate compound interest. Use the formula:\n",
    "        A = P * (1 + r/n) n-t\n",
    "    Where:\n",
    "    A= total amount\n",
    "    P = principal amount\n",
    "    r = annual interest rate (decimal)\n",
    "    n = number of times interest is compounded per year\n",
    "    t = time in years\n",
    "    Take P, r, n, and t as inputs from the user. "
   ]
  },
  {
   "cell_type": "code",
   "execution_count": 43,
   "id": "12de9615-b7d9-4127-bfdc-fda521f255f2",
   "metadata": {},
   "outputs": [
    {
     "name": "stdin",
     "output_type": "stream",
     "text": [
      "Please enter the principal amount:  34\n",
      "Please enter annual interest rate (decimal) 3.2\n",
      "Please enter number of times interest is compounded per year 5\n",
      "Please enter time in years 120\n"
     ]
    },
    {
     "name": "stdout",
     "output_type": "stream",
     "text": [
      "The Compound interest is: 6.67477132532322e-24\n"
     ]
    }
   ],
   "source": [
    "    p = float(input(\"Please enter the principal amount: \"))\n",
    "    r = float(input(\"Please enter annual interest rate (decimal)\"))\n",
    "    n = float(input(\"Please enter number of times interest is compounded per year\"))\n",
    "    t = float(input(\"Please enter time in years\"))\n",
    "    A = p*(1+r/n)**(n-t)\n",
    "    print(f\"The Compound interest is: {A}\")"
   ]
  },
  {
   "cell_type": "markdown",
   "id": "51eb8acc-03b2-482e-9fc9-1134dc3461aa",
   "metadata": {},
   "source": [
    "### 8) Perimeter of a Triangle:\n",
    "   - Write a Python program to calculate the perimeter of a triangle. Use the formula: \n",
    "   -        Perimeter = a + b + c\n",
    "   - Take a, b, and c (lengths of the three sides) as inputs from the user."
   ]
  },
  {
   "cell_type": "code",
   "execution_count": 6,
   "id": "81000586-2cf8-4778-b1cb-4585bb7c9efb",
   "metadata": {},
   "outputs": [
    {
     "name": "stdin",
     "output_type": "stream",
     "text": [
      "Enter the length of first side 23\n",
      "Enter the length of second side 34\n",
      "Enter the length of third side 45\n"
     ]
    },
    {
     "name": "stdout",
     "output_type": "stream",
     "text": [
      "The perimeter of a triangle is: 102.0\n"
     ]
    }
   ],
   "source": [
    "a = float(input(\"Enter the length of first side\"))\n",
    "b = float(input(\"Enter the length of second side\"))\n",
    "c = float(input(\"Enter the length of third side\"))\n",
    "perimeter = a+b+c\n",
    "print(f\"The perimeter of a triangle is: {perimeter}\")"
   ]
  },
  {
   "cell_type": "markdown",
   "id": "26e29e7c-e0b0-4347-9c60-3e80bd741c4b",
   "metadata": {},
   "source": [
    "### 9) Volume of a Sphere:\n",
    "   - Write a Python program to calculate the volume of a sphere. Use the formula: \n",
    "   -    volume = 4/3 πr3\n",
    "   - Take r (radius) as input from the user. "
   ]
  },
  {
   "cell_type": "code",
   "execution_count": 5,
   "id": "9ded1ddd-4841-46cc-b91a-67ee513be52b",
   "metadata": {},
   "outputs": [
    {
     "name": "stdin",
     "output_type": "stream",
     "text": [
      "Please enter the radius of a sphere:  23\n"
     ]
    },
    {
     "name": "stdout",
     "output_type": "stream",
     "text": [
      "The Volume of a Sphere is: 50965.01\n"
     ]
    }
   ],
   "source": [
    "import math\n",
    "radius = float(input(\"Please enter the radius of a sphere: \"))\n",
    "volume = round((4/3)* (math.pi *(radius**3)),3)\n",
    "print(f\"The Volume of a Sphere is: {volume}\")"
   ]
  },
  {
   "cell_type": "markdown",
   "id": "7e7cdd76-cddb-41b1-a094-1ddadc69d02f",
   "metadata": {},
   "source": [
    "### 10) Kinetic Energy:\n",
    "    - Write a Python program to calculate the kinetic energy of an object. Use the formula: \n",
    "    -    KE = 1/2 mv2\n",
    "    - Take m (mass in kilograms) and v (velocity in meters/second) as inputs from the user."
   ]
  },
  {
   "cell_type": "code",
   "execution_count": 2,
   "id": "2a3ac985-c7d5-4651-834f-f00cddb060ea",
   "metadata": {},
   "outputs": [
    {
     "name": "stdin",
     "output_type": "stream",
     "text": [
      "Enter mass in kilograms:  56\n",
      "Enter velocity in meters/second:  6\n"
     ]
    },
    {
     "name": "stdout",
     "output_type": "stream",
     "text": [
      "Kinetic energy of an object is: 1008.0\n"
     ]
    }
   ],
   "source": [
    "mass = float(input(\"Enter mass in kilograms: \"))\n",
    "velocity = float(input(\"Enter velocity in meters/second: \"))\n",
    "ke=(1/2)* mass* (velocity**2)\n",
    "print(f\"Kinetic energy of an object is: {ke}\")"
   ]
  },
  {
   "cell_type": "markdown",
   "id": "e3fe8984-65ad-4882-b142-a1fce0717ff0",
   "metadata": {},
   "source": [
    "### 11) Quadratic Equation Roots:\n",
    "- Write a Python program to find the roots of a quadratic equation. Use the formula: \n",
    "- X = (−𝑏±√(𝑏^2−4𝑎𝑐))/2𝑎\n",
    "- Take a, b, and c as inputs from the user. "
   ]
  },
  {
   "cell_type": "code",
   "execution_count": 19,
   "id": "0642857e-e9f1-4bc8-8a1d-215ae4e52f78",
   "metadata": {},
   "outputs": [
    {
     "name": "stdin",
     "output_type": "stream",
     "text": [
      "Please enter the value of a:  4\n",
      "Please enter the value of b:  6\n",
      "Please enter the value of c:  2\n"
     ]
    },
    {
     "name": "stdout",
     "output_type": "stream",
     "text": [
      "The roots of the quadratic equation are: -0.5 and -1.0\n"
     ]
    }
   ],
   "source": [
    "import math\n",
    "\n",
    "a = float(input(\"Please enter the value of a: \"))\n",
    "b = float(input(\"Please enter the value of b: \"))\n",
    "c = float(input(\"Please enter the value of c: \"))\n",
    "\n",
    "\n",
    "discriminant = b ** 2 - 4 * a * c  # Check if the discriminant is non-negative\n",
    "\n",
    "if discriminant >= 0:\n",
    "    root1 = (-b + math.sqrt(discriminant)) / (2 * a)\n",
    "    root2 = (-b - math.sqrt(discriminant)) / (2 * a)\n",
    "    print(f\"The roots of the quadratic equation are: {root1} and {root2}\")\n",
    "else:\n",
    "    print(\"The equation has no real roots.\")\n"
   ]
  },
  {
   "cell_type": "markdown",
   "id": "92005f4b-db82-41a5-a923-852da253fd22",
   "metadata": {},
   "source": [
    "### 12) Temperature Conversion:\n",
    "- Write a Python program to convert a temperature from Celsius to Fahrenheit. Use the\n",
    "  formula: \n",
    "-         𝐹=9/5𝐶+32\n",
    "- Take C (temperature in Celsius) as input from the user."
   ]
  },
  {
   "cell_type": "code",
   "execution_count": 4,
   "id": "39fb01ee-9449-47a9-9fdf-f48b69189230",
   "metadata": {},
   "outputs": [
    {
     "name": "stdin",
     "output_type": "stream",
     "text": [
      "Enter temperature in celsius:  32\n"
     ]
    },
    {
     "name": "stdout",
     "output_type": "stream",
     "text": [
      "The temperature in Fahrenheit is: 89.6\n"
     ]
    }
   ],
   "source": [
    "tempr = float(input(\"Enter temperature in celsius: \"))\n",
    "tempr_in_fahrenheit = (9/5)*tempr+32\n",
    "print(f\"The temperature in Fahrenheit is: {tempr_in_fahrenheit}\")"
   ]
  },
  {
   "cell_type": "markdown",
   "id": "761071b7-c102-4b28-8754-8352a360d9a7",
   "metadata": {},
   "source": [
    "### 13) Gravitational Force:\n",
    "- Write a Python program to calculate the gravitational force between two objects. Use\n",
    "the formula\n",
    "- 𝐹=𝐺 (m1  ∗m2)/𝑟^2 \n",
    "- m1, m2 are the masses of the objects\n",
    "- r = distance between the centers of the objects\n",
    "- Take m1, m2 and r as inputs from the user.\n",
    "\n"
   ]
  },
  {
   "cell_type": "code",
   "execution_count": 42,
   "id": "6efe3fb4-5bd8-4c6a-86fb-e1a00c63e7e5",
   "metadata": {},
   "outputs": [
    {
     "name": "stdin",
     "output_type": "stream",
     "text": [
      "Enter the mass of object 1 (in kg):  33\n",
      "Enter the mass of object 2 (in kg):  22\n",
      "Enter the distance between the centers of the objects (in meters):  2\n"
     ]
    },
    {
     "name": "stdout",
     "output_type": "stream",
     "text": [
      "The gravitational force between the two objects is: 1.2113e-08 N\n"
     ]
    }
   ],
   "source": [
    "mass1 = float(input(\"Enter the mass of object 1 (in kg): \"))\n",
    "mass2 = float(input(\"Enter the mass of object 2 (in kg): \"))\n",
    "distance = float(input(\"Enter the distance between the centers of the objects (in meters): \"))\n",
    "G = 6.674 * (10**-11)  # m^3 kg^-1 s^-2\n",
    "gravitational_force = G * (mass1 * mass2) / (distance ** 2)\n",
    "\n",
    "print(f\"The gravitational force between the two objects is: {gravitational_force:.4e} N\") # .4e displays the result in scientific notation with four decimal places\n"
   ]
  },
  {
   "cell_type": "markdown",
   "id": "58a75d60-14e5-4d76-88bd-8f66ef9864f2",
   "metadata": {},
   "source": [
    "### 14) Volume of a Cylinder:\n",
    "- Write a Python program to calculate the volume of a cylinder. Use the formula:\n",
    "- volume =π𝑟^2 ℎ\n",
    "- Take radius(r) and height(h) as inputs from the user"
   ]
  },
  {
   "cell_type": "code",
   "execution_count": 49,
   "id": "54e02ab4-7cc3-4d58-b6b1-535e47f5d797",
   "metadata": {},
   "outputs": [
    {
     "name": "stdin",
     "output_type": "stream",
     "text": [
      "Enter the radius of the cylinder:  22\n",
      "Enter the height of the cylinder:  22\n"
     ]
    },
    {
     "name": "stdout",
     "output_type": "stream",
     "text": [
      "The volume of a cylinder is: 33451.68\n"
     ]
    }
   ],
   "source": [
    "import math\n",
    "radius =float(input(\"Enter the radius of the cylinder: \"))\n",
    "height = float(input(\"Enter the height of the cylinder: \"))\n",
    "volume = math.pi * (radius**2)* height\n",
    "print(f\"The volume of a cylinder is: {round(volume,2)}\")"
   ]
  },
  {
   "cell_type": "markdown",
   "id": "7e127094-799c-4b11-945e-b8d34b9fcb41",
   "metadata": {},
   "source": [
    "### 15) Pressure:\n",
    "- Write a Python program to calculate the pressure exerted by a force on a surface. Use\n",
    "the formula: \n",
    "- P=𝐹/𝐴\n",
    "- P = pressure\n",
    "- F = force\n",
    "- A = area\n",
    "- Take F(force) and A(area) as inputs from the user. "
   ]
  },
  {
   "cell_type": "code",
   "execution_count": 52,
   "id": "7397dc11-eb20-4bb4-a707-8430e960b972",
   "metadata": {},
   "outputs": [
    {
     "name": "stdin",
     "output_type": "stream",
     "text": [
      "Enter the force:  34\n",
      "Enter the area:  20\n"
     ]
    },
    {
     "name": "stdout",
     "output_type": "stream",
     "text": [
      "The pressure exerted by a force on a surface: 1.7\n"
     ]
    }
   ],
   "source": [
    "force = float(input(\"Enter the force: \"))\n",
    "area = float(input(\"Enter the area: \"))\n",
    "pressure = force / area\n",
    "print(f\"The pressure exerted by a force on a surface: {pressure}\")"
   ]
  },
  {
   "cell_type": "markdown",
   "id": "e412531c-2d44-494e-9a2e-d0104b554a54",
   "metadata": {},
   "source": [
    "### 16) Electric Power:\n",
    "- Write a Python program to calculate the electric power consumed. Use the formula: \n",
    "- P=𝑉/𝐼\n",
    "- where:\n",
    "- P = power\n",
    "- V = voltage\n",
    "- I = current\n",
    "- Take V(voltage) and I(current) as inputs from the user.\n"
   ]
  },
  {
   "cell_type": "code",
   "execution_count": 57,
   "id": "85bcbe0a-e4d0-4b0f-895d-bb09ede5005f",
   "metadata": {},
   "outputs": [
    {
     "name": "stdin",
     "output_type": "stream",
     "text": [
      "Enter the voltage:  33\n",
      "Enter the current:  2.4\n"
     ]
    },
    {
     "name": "stdout",
     "output_type": "stream",
     "text": [
      "Electric power consumed: 13.75\n"
     ]
    }
   ],
   "source": [
    "voltage = float(input(\"Enter the voltage: \"))\n",
    "current = float(input(\"Enter the current: \"))\n",
    "electric_power = voltage/current\n",
    "print(f\"Electric power consumed: {electric_power}\")"
   ]
  },
  {
   "cell_type": "markdown",
   "id": "adf84142-a0e9-49a8-919b-da7bca388a6d",
   "metadata": {},
   "source": [
    "### 17) Perimeter of a Circle (Circumference):\n",
    "- Write a Python program to calculate the perimeter (circumference) of a circle. Use the\n",
    "formula:\n",
    "- p =2πr\n",
    "- Take r (radius) as input from the user. "
   ]
  },
  {
   "cell_type": "code",
   "execution_count": 64,
   "id": "bbad9046-b062-4dc1-a13f-553ece81adf1",
   "metadata": {},
   "outputs": [
    {
     "name": "stdin",
     "output_type": "stream",
     "text": [
      "Enter the radius of a circle:  2.2\n"
     ]
    },
    {
     "name": "stdout",
     "output_type": "stream",
     "text": [
      "The perimeter of a circle: 13.82\n"
     ]
    }
   ],
   "source": [
    "import math\n",
    "radius = float(input(\"Enter the radius of a circle: \"))\n",
    "perimeter = 2 * math.pi * radius\n",
    "print(f\"The perimeter of a circle: {round(perimeter,2)}\")"
   ]
  },
  {
   "attachments": {},
   "cell_type": "markdown",
   "id": "123af145-831f-4684-bbee-65a6c307191e",
   "metadata": {},
   "source": [
    "### 18) Future Value in Savings:\n",
    "- Write a Python program to calculate the future value of an investment. Use the formula: \n",
    "- FV =𝑃𝑉(1 +𝑟)^𝑡\n",
    "- where:\n",
    "- FV= future value\n",
    "- PV= present value\n",
    "- r= annual interest rate (as a decimal)\n",
    "- t= time in years\n",
    "- Take PV, r, and t as inputs from the user. \n"
   ]
  },
  {
   "cell_type": "code",
   "execution_count": 71,
   "id": "df3bd59c-b547-4efb-9812-3f2c9993d0ec",
   "metadata": {},
   "outputs": [
    {
     "name": "stdin",
     "output_type": "stream",
     "text": [
      "Enter the present value:  22\n",
      "Enter the annual interest rate:  33\n",
      "Enter the time in year:  44\n"
     ]
    },
    {
     "name": "stdout",
     "output_type": "stream",
     "text": [
      "The future value of an investment: 5.339e+68\n"
     ]
    }
   ],
   "source": [
    "present_value = float(input(\"Enter the present value: \"))\n",
    "annual_interest = float(input(\"Enter the annual interest rate: \"))\n",
    "time = float(input(\"Enter the time in year: \"))\n",
    "future_value = present_value*((1+annual_interest)**time)\n",
    "print(f\"The future value of an investment: {future_value:.3e}\")"
   ]
  },
  {
   "attachments": {},
   "cell_type": "markdown",
   "id": "ae6010b3-6dfe-421f-90a6-098893bf18ba",
   "metadata": {},
   "source": [
    "### 19) Work Done by a Force:\n",
    "- Write a Python program to calculate the work done by a force. Use the formula: \n",
    "-                  W =𝑓.𝑑 cos⁡𝜗\n",
    "- where:\n",
    "- W = work done\n",
    "- f= force\n",
    "- d = distance\n",
    "- theta = angle between force and direction of movement (in degrees)\n",
    "- Take f, d, and θ as inputs from the user.\n"
   ]
  },
  {
   "cell_type": "code",
   "execution_count": 77,
   "id": "1043205d-a215-4c8c-915f-e389e571fb4e",
   "metadata": {},
   "outputs": [
    {
     "name": "stdin",
     "output_type": "stream",
     "text": [
      "Enter the force:  33\n",
      "Enter the distance:  23\n",
      "Enter the angle between force and direction of movement: (in degrees) 60\n"
     ]
    },
    {
     "name": "stdout",
     "output_type": "stream",
     "text": [
      "The work done by a force is: 379.5 Joules\n"
     ]
    }
   ],
   "source": [
    "import math\n",
    "force = float(input(\"Enter the force: \"))\n",
    "distance = float(input(\"Enter the distance: \"))\n",
    "angle_degree = float(input(\"Enter the angle between force and direction of movement: (in degrees)\"))\n",
    "angle_radians = math.radians(angle_degree)\n",
    "work_done = force*distance*math.cos(angle_radians)\n",
    "print(f\"The work done by a force is: {round(work_done,3)} Joules\")"
   ]
  },
  {
   "attachments": {},
   "cell_type": "markdown",
   "id": "aa670799-93f7-4693-866d-b0c37382f629",
   "metadata": {},
   "source": [
    "### 20) Heat Transfer:\n",
    "- Write a Python program to calculate the amount of heat transferred. Use the formula:\n",
    "-                     Q=mc(∆T)\n",
    "- where:\n",
    "- Q= heat transfer\n",
    "- m = mass\n",
    "- c = specific heat capacity\n",
    "- ΔT\n",
    "- Take m, c, T as inputs from the user."
   ]
  },
  {
   "cell_type": "code",
   "execution_count": 81,
   "id": "93929a60-7eb0-445b-b6ff-9df80e9db370",
   "metadata": {},
   "outputs": [
    {
     "name": "stdin",
     "output_type": "stream",
     "text": [
      "Enter the mass:  57\n",
      "Enter the specific heat capacity:  43\n",
      "Enter the mass: Change in temperature:  32\n"
     ]
    },
    {
     "name": "stdout",
     "output_type": "stream",
     "text": [
      "The amount of heat transferred: 78432.0 Joules\n"
     ]
    }
   ],
   "source": [
    "mass = float(input(\"Enter the mass: \"))\n",
    "specific_heat_capacity = float(input(\"Enter the specific heat capacity: \"))\n",
    "change_temp = float(input(\"Enter the mass: Change in temperature: \"))\n",
    "heat_transfer = mass*specific_heat_capacity*change_temp\n",
    "print(f\"The amount of heat transferred: {heat_transfer} Joules\")"
   ]
  },
  {
   "cell_type": "code",
   "execution_count": null,
   "id": "b15f843d-8250-4411-936c-4e5a61ea9cde",
   "metadata": {},
   "outputs": [],
   "source": []
  }
 ],
 "metadata": {
  "kernelspec": {
   "display_name": "Python 3 (ipykernel)",
   "language": "python",
   "name": "python3"
  },
  "language_info": {
   "codemirror_mode": {
    "name": "ipython",
    "version": 3
   },
   "file_extension": ".py",
   "mimetype": "text/x-python",
   "name": "python",
   "nbconvert_exporter": "python",
   "pygments_lexer": "ipython3",
   "version": "3.12.3"
  }
 },
 "nbformat": 4,
 "nbformat_minor": 5
}
