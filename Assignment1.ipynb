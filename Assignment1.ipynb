{
 "cells": [
  {
   "cell_type": "markdown",
   "id": "1c1fe527-62dd-4121-8250-a3e15f4eade5",
   "metadata": {},
   "source": [
    "# Topic: print()           (26th November 2024)"
   ]
  },
  {
   "cell_type": "markdown",
   "id": "f173a99c-c239-480c-af47-96c74dd31f27",
   "metadata": {},
   "source": [
    "##### 1.Using the python print function print any string value, integer value, boolean value, float value in single print command"
   ]
  },
  {
   "cell_type": "code",
   "execution_count": 3,
   "id": "eda961ed-b04e-4844-b43a-cddb18665d0d",
   "metadata": {},
   "outputs": [
    {
     "name": "stdout",
     "output_type": "stream",
     "text": [
      "My name is Muhammad Usman\n"
     ]
    }
   ],
   "source": [
    "print(\"My name is Muhammad Usman\")"
   ]
  },
  {
   "cell_type": "code",
   "execution_count": 4,
   "id": "f328ddf1-5469-4923-9e93-6b7a5685340f",
   "metadata": {},
   "outputs": [
    {
     "name": "stdout",
     "output_type": "stream",
     "text": [
      "I am:  24\n"
     ]
    }
   ],
   "source": [
    "print(\"I am: \", 24)"
   ]
  },
  {
   "cell_type": "code",
   "execution_count": 5,
   "id": "d7744096-303c-40ff-b4b5-36b27c7503ef",
   "metadata": {},
   "outputs": [
    {
     "name": "stdout",
     "output_type": "stream",
     "text": [
      "Today is Friday:  True\n"
     ]
    }
   ],
   "source": [
    "print(\"Today is Friday: \", True)"
   ]
  },
  {
   "cell_type": "code",
   "execution_count": 6,
   "id": "f0514082-ab58-46ba-948e-395bd1c6361d",
   "metadata": {},
   "outputs": [
    {
     "name": "stdout",
     "output_type": "stream",
     "text": [
      "Today is saturday:  False\n"
     ]
    }
   ],
   "source": [
    "print(\"Today is saturday: \", False)"
   ]
  },
  {
   "cell_type": "code",
   "execution_count": 7,
   "id": "7ee4220b-a6cf-41ab-a290-35a3e8ed4659",
   "metadata": {},
   "outputs": [
    {
     "name": "stdout",
     "output_type": "stream",
     "text": [
      "The value of Pi is:  3.142\n"
     ]
    }
   ],
   "source": [
    "print(\"The value of Pi is: \", 3.142)"
   ]
  },
  {
   "cell_type": "markdown",
   "id": "59b170db-929a-4ae9-be0d-7716987ec6da",
   "metadata": {},
   "source": [
    "##### 2. Using the python print function print hyphon(-) separated any string value, integer value, boolean value, float value in single print command"
   ]
  },
  {
   "cell_type": "code",
   "execution_count": 9,
   "id": "dbf35963-2d1c-4b05-b03c-f96c1042ee4d",
   "metadata": {},
   "outputs": [
    {
     "name": "stdout",
     "output_type": "stream",
     "text": [
      "Usman-Tahir-Javed-Kamran-Lateef-Khalid\n"
     ]
    }
   ],
   "source": [
    "print(\"Usman\", \"Tahir\",\"Javed\",\"Kamran\",\"Lateef\",\"Khalid\", sep=\"-\")"
   ]
  },
  {
   "cell_type": "code",
   "execution_count": 10,
   "id": "7bc534a6-2c71-47a8-aebe-ab904ae33563",
   "metadata": {},
   "outputs": [
    {
     "name": "stdout",
     "output_type": "stream",
     "text": [
      "23-34-45-56-67-78-89\n"
     ]
    }
   ],
   "source": [
    "print(23,34,45,56,67,78,89,sep=\"-\")"
   ]
  },
  {
   "cell_type": "code",
   "execution_count": 11,
   "id": "4eb72f0c-1a9b-4c90-8364-2683dec9ac8c",
   "metadata": {},
   "outputs": [
    {
     "name": "stdout",
     "output_type": "stream",
     "text": [
      "True-False-True-False-True\n"
     ]
    }
   ],
   "source": [
    "print(True,False,True,False,True,sep=\"-\")"
   ]
  },
  {
   "cell_type": "code",
   "execution_count": 12,
   "id": "a14fe074-a0da-4eb4-94cd-165a67c2f5ad",
   "metadata": {},
   "outputs": [
    {
     "name": "stdout",
     "output_type": "stream",
     "text": [
      "3.142-4.356-7.65-6.43-44.23\n"
     ]
    }
   ],
   "source": [
    "print(3.142,4.356,7.65,6.43,44.23,sep=\"-\")"
   ]
  },
  {
   "cell_type": "markdown",
   "id": "cc38e915-0243-4ccd-a473-3ef762aee6e9",
   "metadata": {},
   "source": [
    "##### 3.  Using the python print function print any string value, integer value, boolean value, float value in separate print command. But every value must be space separated and in single line"
   ]
  },
  {
   "cell_type": "code",
   "execution_count": 14,
   "id": "566f784d-eb78-4221-8ff1-6a58e4ec8de4",
   "metadata": {},
   "outputs": [
    {
     "name": "stdout",
     "output_type": "stream",
     "text": [
      "Usman Umar Waqas Haleem Adil "
     ]
    }
   ],
   "source": [
    "print(\"Usman\",end=\" \")\n",
    "print(\"Umar\", end=\" \")\n",
    "print(\"Waqas\", end=\" \")\n",
    "print(\"Haleem\", end=\" \")\n",
    "print(\"Adil\", end=\" \")"
   ]
  },
  {
   "cell_type": "code",
   "execution_count": 15,
   "id": "1a0e4a74-213a-4311-bc72-2caee9051dc7",
   "metadata": {},
   "outputs": [
    {
     "name": "stdout",
     "output_type": "stream",
     "text": [
      "34 43 55 63 77 "
     ]
    }
   ],
   "source": [
    "print(34, end=\" \")\n",
    "print(43, end=\" \")\n",
    "print(55, end=\" \")\n",
    "print(63, end=\" \")\n",
    "print(77, end=\" \")"
   ]
  },
  {
   "cell_type": "code",
   "execution_count": 16,
   "id": "225cf54b-edd6-40ae-b32a-2abef84dbeb5",
   "metadata": {},
   "outputs": [
    {
     "name": "stdout",
     "output_type": "stream",
     "text": [
      "True False True False True "
     ]
    }
   ],
   "source": [
    "print(True, end=\" \")\n",
    "print(False, end=\" \")\n",
    "print(True, end=\" \")\n",
    "print(False, end=\" \")\n",
    "print(True, end=\" \")"
   ]
  },
  {
   "cell_type": "code",
   "execution_count": 17,
   "id": "8667e994-604b-4541-b4e8-074bec166e1c",
   "metadata": {},
   "outputs": [
    {
     "name": "stdout",
     "output_type": "stream",
     "text": [
      "4.22 5.23 6.11 9.44 6.77 "
     ]
    }
   ],
   "source": [
    "print(4.22, end=\" \")\n",
    "print(5.23, end=\" \")\n",
    "print(6.11, end=\" \")\n",
    "print(9.44, end=\" \")\n",
    "print(6.77, end=\" \")"
   ]
  },
  {
   "cell_type": "markdown",
   "id": "afab3037-c61c-4a31-b6fc-3bf34cf56a1e",
   "metadata": {},
   "source": [
    "### 4.  Can a python print function take no value to print???\n",
    "##### Yes, the print() function in Python can take no value to print. When called without any arguments, print() simply outputs a blank line. This is often used to add space in the output for readability."
   ]
  },
  {
   "cell_type": "code",
   "execution_count": 19,
   "id": "2d921b62-bdb5-4e1c-a846-4c4cedbbf0ab",
   "metadata": {},
   "outputs": [
    {
     "name": "stdout",
     "output_type": "stream",
     "text": [
      "Hello\n",
      "\n",
      "World\n"
     ]
    }
   ],
   "source": [
    "print(\"Hello\")\n",
    "print()\n",
    "print(\"World\")"
   ]
  },
  {
   "cell_type": "markdown",
   "id": "5d2246f3-cfb2-4961-a71c-05ee519855b4",
   "metadata": {},
   "source": [
    "# TOPIC :Variables in Python Operators       (26th November 2024)"
   ]
  },
  {
   "cell_type": "markdown",
   "id": "6c1aae99-45df-40bc-9139-345c2d2c663a",
   "metadata": {},
   "source": [
    "##### 5. One of my friends name is Mr. Ahmed. He is 30 years old. He is a lawer by profession. He has done his bachelors in law in the year 2005. He is working with a reputable law firm 'The Himalya Associates' in Karachi since 2015. He is a handsome lawer with height of 5.10 feets and weight 70600g. His monthly income is Rs. 200k PKR.\n",
    "###### Note: Create variables from above text and also assign values from the text."
   ]
  },
  {
   "cell_type": "code",
   "execution_count": 22,
   "id": "9b7995a3-d071-4cc1-a166-847b19c4c477",
   "metadata": {},
   "outputs": [],
   "source": [
    "name=\"Mr. Ahmed\"\n",
    "age=30\n",
    "profession=\"Lawer\"\n",
    "education=\"Bachelor in Law\"\n",
    "graduation_year=2005\n",
    "company_name=\"The Himalya Associates\"\n",
    "working_since=2015\n",
    "looking_personality=\"Handsome\"\n",
    "height=5.10\n",
    "weight_in_g=70600\n",
    "monthly_income=200000"
   ]
  },
  {
   "cell_type": "markdown",
   "id": "56ac9d09-3128-4a9a-bc9b-122d360df30f",
   "metadata": {},
   "source": [
    "##### 6. How many years has been to Mr. Ahmed after his bachelors degree? Create a variable that hold current year value and then subtract it from his passout year"
   ]
  },
  {
   "cell_type": "code",
   "execution_count": 24,
   "id": "f10bc1b6-6e27-4a96-b95e-3530feccafe4",
   "metadata": {},
   "outputs": [
    {
     "name": "stdout",
     "output_type": "stream",
     "text": [
      "Its 19 years have passed after his graduation\n"
     ]
    }
   ],
   "source": [
    "current_year= 2024\n",
    "print(f\"Its {current_year - graduation_year} years have passed after his graduation\")"
   ]
  },
  {
   "cell_type": "markdown",
   "id": "8c41a944-81dd-4f10-9942-7df607326f7e",
   "metadata": {},
   "source": [
    "##### 7. How many years has Mr. Ahmed been working with law firm 'The Himalya Associates'. Create necesary variables and print the correct number of years in working in the firm"
   ]
  },
  {
   "cell_type": "code",
   "execution_count": 26,
   "id": "9345d474-0880-4dda-a7a4-0a05c1f0bd76",
   "metadata": {},
   "outputs": [
    {
     "name": "stdout",
     "output_type": "stream",
     "text": [
      "He has been working for 9 years \n"
     ]
    }
   ],
   "source": [
    "print(f\"He has been working for {current_year-working_since} years \")"
   ]
  },
  {
   "cell_type": "markdown",
   "id": "864bdacf-8a78-4ebe-ac32-9d7170bb52f9",
   "metadata": {},
   "source": [
    "##### 8. Convert the monthly income of Mr. Ahmed in dollars. Create necesary variables and print the income in dollars."
   ]
  },
  {
   "cell_type": "code",
   "execution_count": 28,
   "id": "b43df4bd-e2be-473b-973b-6cf3187ad0f3",
   "metadata": {},
   "outputs": [
    {
     "name": "stdout",
     "output_type": "stream",
     "text": [
      "Mr. Ahmed's monthly income in dollars is: 718.37\n"
     ]
    }
   ],
   "source": [
    "income_in_dollar = round(monthly_income/278.41,2)\n",
    "print(F\"Mr. Ahmed's monthly income in dollars is: {income_in_dollar}\")"
   ]
  },
  {
   "cell_type": "markdown",
   "id": "d97faa4e-bac8-4813-8437-3a9793f46172",
   "metadata": {},
   "source": [
    "##### 9. Check if the income in dollars is a float or integer value. if it is float, re-write the code so that income gets converted in integer. print the income in integer type value"
   ]
  },
  {
   "cell_type": "code",
   "execution_count": 30,
   "id": "fbc9edab-def7-43c6-8af1-9d61cba79df8",
   "metadata": {},
   "outputs": [
    {
     "name": "stdout",
     "output_type": "stream",
     "text": [
      "The income in dollar is: 718\n"
     ]
    }
   ],
   "source": [
    "if isinstance(income_in_dollar, float):\n",
    "    income_in_dollar = int(income_in_dollar)\n",
    "    print(f\"The income in dollar is: {income_in_dollar}\")"
   ]
  },
  {
   "cell_type": "markdown",
   "id": "7b6a6cd8-4eca-4fcb-b48c-c4d43a1af49e",
   "metadata": {},
   "source": [
    "##### 10. Print the type of Mr. Ahmed's weight. Convert the weight of Mr. Ahmed in kg so that weight must be a integer value."
   ]
  },
  {
   "cell_type": "code",
   "execution_count": 34,
   "id": "2e6b8a1f-fcaf-45bb-b31d-07b53e627840",
   "metadata": {},
   "outputs": [
    {
     "name": "stdout",
     "output_type": "stream",
     "text": [
      "<class 'int'>\n"
     ]
    }
   ],
   "source": [
    "print(type(weight_in_g))"
   ]
  },
  {
   "cell_type": "code",
   "execution_count": null,
   "id": "87051163-f406-4356-9949-61124eedd3e4",
   "metadata": {},
   "outputs": [],
   "source": [
    "weight_in_kg = int(weight_in_g/1000)\n",
    "print(f\"Mr. Ahmed's weight in kg is: {weight_in_kg}\")"
   ]
  },
  {
   "cell_type": "markdown",
   "id": "294204d5-d102-4339-8f63-aca452a0f514",
   "metadata": {},
   "source": [
    "##### 11. print the year of birth of Mr. Ahmed."
   ]
  },
  {
   "cell_type": "code",
   "execution_count": null,
   "id": "adab1e28-1c7d-428b-882d-5558cb34a61a",
   "metadata": {},
   "outputs": [],
   "source": [
    "birth_year = current_year-age\n",
    "print(f\"Mr. Ahmed's birth year is: {birth_year}\")"
   ]
  },
  {
   "cell_type": "markdown",
   "id": "1c930e08-5c41-44fb-be0b-11cad19363e2",
   "metadata": {},
   "source": [
    "##### 12. Can Rs. 100 be divided equally among 6 students? HINT: % operator (modulo)"
   ]
  },
  {
   "cell_type": "code",
   "execution_count": 36,
   "id": "fa0666c9-48f1-43f0-9b01-bfaa50a0d008",
   "metadata": {},
   "outputs": [
    {
     "name": "stdout",
     "output_type": "stream",
     "text": [
      "No 100 can not be divided equally among 6 students\n"
     ]
    }
   ],
   "source": [
    "if 100 & 6 == 0:\n",
    "    print(\"Yes 100 can be divided equally among 6 students\")\n",
    "else:\n",
    "    print(\"No 100 can not be divided equally among 6 students\")\n"
   ]
  }
 ],
 "metadata": {
  "kernelspec": {
   "display_name": "Python 3 (ipykernel)",
   "language": "python",
   "name": "python3"
  },
  "language_info": {
   "codemirror_mode": {
    "name": "ipython",
    "version": 3
   },
   "file_extension": ".py",
   "mimetype": "text/x-python",
   "name": "python",
   "nbconvert_exporter": "python",
   "pygments_lexer": "ipython3",
   "version": "3.12.3"
  }
 },
 "nbformat": 4,
 "nbformat_minor": 5
}
