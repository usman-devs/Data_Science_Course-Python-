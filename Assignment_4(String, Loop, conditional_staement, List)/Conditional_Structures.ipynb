{
 "cells": [
  {
   "cell_type": "markdown",
   "id": "ce89dce0-32f1-4791-8546-642ed606acdb",
   "metadata": {},
   "source": [
    "### Conditional Structures "
   ]
  },
  {
   "cell_type": "markdown",
   "id": "e600a841-692c-4042-9c6b-3a494c782496",
   "metadata": {},
   "source": [
    "##### 1. Write a program that prompts the user to input a number and display if the number is even or odd. \n"
   ]
  },
  {
   "cell_type": "code",
   "execution_count": 1,
   "id": "ffcd3315-4bf2-4c31-9c6e-84ea9edfe97f",
   "metadata": {},
   "outputs": [
    {
     "name": "stdin",
     "output_type": "stream",
     "text": [
      "Enter a number:  5\n"
     ]
    },
    {
     "name": "stdout",
     "output_type": "stream",
     "text": [
      "The number 5 is odd.\n"
     ]
    }
   ],
   "source": [
    "number = int(input(\"Enter a number: \"))\n",
    "if number % 2 == 0:\n",
    "    print(f\"The number {number} is even.\")\n",
    "else:\n",
    "    print(f\"The number {number} is odd.\")"
   ]
  },
  {
   "cell_type": "markdown",
   "id": "c044d491-2f19-4a66-8cfc-c1a62acfbae7",
   "metadata": {},
   "source": [
    "#####  2. Write a Python program that takes an age as input and determines whether a person is eligible to vote. If the age is 18 or above, print \"You are eligible to vote.\" Otherwise, print \"You are not eligible to vote yet.\". \n"
   ]
  },
  {
   "cell_type": "code",
   "execution_count": 3,
   "id": "faa2a934-7a84-4f27-b74c-f1c700f8330b",
   "metadata": {},
   "outputs": [
    {
     "name": "stdin",
     "output_type": "stream",
     "text": [
      "Enter your age:  27\n"
     ]
    },
    {
     "name": "stdout",
     "output_type": "stream",
     "text": [
      "You are eligible to vote.\n"
     ]
    }
   ],
   "source": [
    "age = int(input(\"Enter your age: \"))\n",
    "if age >= 18:\n",
    "    print(\"You are eligible to vote.\")\n",
    "else:\n",
    "    print(\"You are not eligible to vote yet.\")\n"
   ]
  },
  {
   "cell_type": "markdown",
   "id": "c6b42162-45ad-414a-9975-633ea5756d28",
   "metadata": {},
   "source": [
    "##### 3. Write a program that prompts the user to input two integers and outputs the largest. \n"
   ]
  },
  {
   "cell_type": "code",
   "execution_count": 5,
   "id": "0a7242f5-6c4e-49ec-b77e-a12b55178b90",
   "metadata": {},
   "outputs": [
    {
     "name": "stdin",
     "output_type": "stream",
     "text": [
      "Enter the first integer:  6\n",
      "Enter the second integer:  8\n"
     ]
    },
    {
     "name": "stdout",
     "output_type": "stream",
     "text": [
      "The largest number is 8.\n"
     ]
    }
   ],
   "source": [
    "num1 = int(input(\"Enter the first integer: \"))\n",
    "num2 = int(input(\"Enter the second integer: \"))\n",
    "if num1 > num2:\n",
    "    print(f\"The largest number is {num1}.\")\n",
    "elif num2 > num1:\n",
    "    print(f\"The largest number is {num2}.\")\n",
    "else:\n",
    "    print(\"Both numbers are equal.\")\n"
   ]
  },
  {
   "cell_type": "markdown",
   "id": "06666b13-5891-44bd-bc7d-a097d8752722",
   "metadata": {},
   "source": [
    "##### 4. Write a program that prompts the user to enter a number and determines whether it is positive, negative, or zero. The program should print \"Positive\" if the number is greater than 0, \"Negative\" if the number is less than 0, and \"Zero\" if the number is 0. \n"
   ]
  },
  {
   "cell_type": "code",
   "execution_count": 9,
   "id": "375718b3-88d7-4882-a290-ac1f6f9a9e05",
   "metadata": {},
   "outputs": [
    {
     "name": "stdin",
     "output_type": "stream",
     "text": [
      "Enter a number:  -6\n"
     ]
    },
    {
     "name": "stdout",
     "output_type": "stream",
     "text": [
      "Negative\n"
     ]
    }
   ],
   "source": [
    "number = float(input(\"Enter a number: \"))\n",
    "if number > 0:\n",
    "    print(\"Positive\")\n",
    "elif number < 0:\n",
    "    print(\"Negative\")\n",
    "else:\n",
    "    print(\"Zero\")\n"
   ]
  },
  {
   "cell_type": "markdown",
   "id": "bb822cf5-2e56-4fec-874f-93050c76c883",
   "metadata": {},
   "source": [
    "##### 5. Write a program that prompts the user to enter their age and prints the corresponding age group. The program should use the following age groups:\n",
    "- 0-12: Child\n",
    "- 13-19: Teenager\n",
    "- 20-59: Adult\n",
    "- 60 and above: Senior Citizen "
   ]
  },
  {
   "cell_type": "code",
   "execution_count": 11,
   "id": "ea71755f-d7a8-4dbf-8b9c-f6124bfa07d8",
   "metadata": {},
   "outputs": [
    {
     "name": "stdin",
     "output_type": "stream",
     "text": [
      "Enter your age:  27\n"
     ]
    },
    {
     "name": "stdout",
     "output_type": "stream",
     "text": [
      "Adult\n"
     ]
    }
   ],
   "source": [
    "age = int(input(\"Enter your age: \"))\n",
    "if 0 <= age <= 12:\n",
    "    print(\"Child\")\n",
    "elif 13 <= age <= 19:\n",
    "    print(\"Teenager\")\n",
    "elif 20 <= age <= 59:\n",
    "    print(\"Adult\")\n",
    "elif age >= 60:\n",
    "    print(\"Senior Citizen\")\n",
    "else:\n",
    "    print(\"Invalid age entered.\")\n"
   ]
  },
  {
   "cell_type": "markdown",
   "id": "8bfc004a-47b1-4ba6-bf9d-7860977b82ad",
   "metadata": {},
   "source": [
    "##### 6. Write a program that prompts the user to input a number from 1 to 7. The program should display the corresponding day for the given number. For example, if the user types 1, the output should be Sunday. If the user types 7, the output should be Saturday. If the number is not between 1 to 7 user should get error message as shown in sample output. \n"
   ]
  },
  {
   "cell_type": "code",
   "execution_count": 13,
   "id": "319d686d-8228-437e-8e54-5a646a028843",
   "metadata": {},
   "outputs": [
    {
     "name": "stdin",
     "output_type": "stream",
     "text": [
      "Enter a number between 1 and 7:  6\n"
     ]
    },
    {
     "name": "stdout",
     "output_type": "stream",
     "text": [
      "The day corresponding to 6 is Friday.\n"
     ]
    }
   ],
   "source": [
    "number = int(input(\"Enter a number between 1 and 7: \"))\n",
    "days = {\n",
    "    1: \"Sunday\",\n",
    "    2: \"Monday\",\n",
    "    3: \"Tuesday\",\n",
    "    4: \"Wednesday\",\n",
    "    5: \"Thursday\",\n",
    "    6: \"Friday\",\n",
    "    7: \"Saturday\"\n",
    "}\n",
    "if 1 <= number <= 7:\n",
    "    print(f\"The day corresponding to {number} is {days[number]}.\")\n",
    "else:\n",
    "    print(\"Error: The number must be between 1 and 7.\")\n"
   ]
  },
  {
   "cell_type": "markdown",
   "id": "b4f996ae-43db-40fe-aacb-16317a10a3db",
   "metadata": {},
   "source": [
    "##### 7. Write a program that prompts the user to enter their weight (in kilograms) and height (in meters). The program should calculate the Body Mass Index (BMI) using the formula: BMI = weight / (height * height). The program should then classify the BMI into one of the following categories:\n",
    "- less than 18.5 - Underweight\n",
    "- BMI between 18.5 and 24.9 - Normal weight\n",
    "- BMI between 25 and 29.9 - Overweight\n",
    "- BMI 30 or greater - Obesity"
   ]
  },
  {
   "cell_type": "code",
   "execution_count": 15,
   "id": "7c1495d8-7625-43d4-b93b-583e363d49fe",
   "metadata": {},
   "outputs": [
    {
     "name": "stdin",
     "output_type": "stream",
     "text": [
      "Enter your weight in kilograms:  58\n",
      "Enter your height in meters:  1.6\n"
     ]
    },
    {
     "name": "stdout",
     "output_type": "stream",
     "text": [
      "Your BMI is: 22.66\n",
      "Category: Normal weight\n"
     ]
    }
   ],
   "source": [
    "weight = float(input(\"Enter your weight in kilograms: \"))\n",
    "height = float(input(\"Enter your height in meters: \"))\n",
    "\n",
    "bmi = weight / (height * height)\n",
    "\n",
    "print(f\"Your BMI is: {bmi:.2f}\")\n",
    "\n",
    "if bmi < 18.5:\n",
    "    print(\"Category: Underweight\")\n",
    "elif 18.5 <= bmi <= 24.9:\n",
    "    print(\"Category: Normal weight\")\n",
    "elif 25 <= bmi <= 29.9:\n",
    "    print(\"Category: Overweight\")\n",
    "else:\n",
    "    print(\"Category: Obesity\")\n"
   ]
  },
  {
   "cell_type": "markdown",
   "id": "76679fa9-5e8a-44ad-9152-c335155e4a35",
   "metadata": {},
   "source": [
    "##### 8. The marks obtained by a student in 3 different subjects are input by the user. Your program should calculate the average of subjects and display the grade. The student gets a grade as per the following rules:\n",
    "- Average Grade\n",
    "- 90-100 A\n",
    "- 80-89 B\n",
    "- 70-79 C\n",
    "- 60-69 D\n",
    "- 0-59 F"
   ]
  },
  {
   "cell_type": "code",
   "execution_count": 17,
   "id": "999eaf45-def6-4499-91f7-a73a8957d96b",
   "metadata": {},
   "outputs": [
    {
     "name": "stdin",
     "output_type": "stream",
     "text": [
      "Enter marks for Subject 1:  78\n",
      "Enter marks for Subject 2:  88\n",
      "Enter marks for Subject 3:  99\n"
     ]
    },
    {
     "name": "stdout",
     "output_type": "stream",
     "text": [
      "Average Marks: 88.33\n",
      "Grade: B\n"
     ]
    }
   ],
   "source": [
    "subject1 = float(input(\"Enter marks for Subject 1: \"))\n",
    "subject2 = float(input(\"Enter marks for Subject 2: \"))\n",
    "subject3 = float(input(\"Enter marks for Subject 3: \"))\n",
    "\n",
    "average = (subject1 + subject2 + subject3) / 3\n",
    "\n",
    "print(f\"Average Marks: {average:.2f}\")\n",
    "\n",
    "if 90 <= average <= 100:\n",
    "    grade = \"A\"\n",
    "elif 80 <= average <= 89:\n",
    "    grade = \"B\"\n",
    "elif 70 <= average <= 79:\n",
    "    grade = \"C\"\n",
    "elif 60 <= average <= 69:\n",
    "    grade = \"D\"\n",
    "elif 0 <= average < 60:\n",
    "    grade = \"F\"\n",
    "else:\n",
    "    grade = \"Invalid marks entered.\"\n",
    "\n",
    "print(f\"Grade: {grade}\")"
   ]
  },
  {
   "cell_type": "markdown",
   "id": "2632cdb8-f6d2-42a2-b306-4beea6414aac",
   "metadata": {},
   "source": [
    "##### 9. The roots of the quadratic equation ax2 + bx + c = 0, a ≠ 0 are given by the following formula: \n",
    "##### [-b ± √(b2 - 4ac)]/2a In this formula, the term b2 4ac is called the discriminant. If b2 4ac = 0, then the equation has two equal roots. If b2 4ac > 0, the equation has two real roots. If b2 4ac < 0, the equation has two complex roots.\n",
    "##### Write a program that prompts the user to input the value of a (the coefficient of x2), b(the coefficient of x), and c (the constant term) and outputs the roots of the quadratic equation. \n"
   ]
  },
  {
   "cell_type": "code",
   "execution_count": 19,
   "id": "7a1a01a3-9f0b-4754-b43b-6947c4b9800f",
   "metadata": {},
   "outputs": [
    {
     "name": "stdin",
     "output_type": "stream",
     "text": [
      "Enter the coefficient a:  1\n",
      "Enter the coefficient b:  2\n",
      "Enter the constant c:  3\n"
     ]
    },
    {
     "name": "stdout",
     "output_type": "stream",
     "text": [
      "The equation has two complex roots: -1.0 + 1.4142135623730951i and -1.0 - 1.4142135623730951i\n"
     ]
    }
   ],
   "source": [
    "import math\n",
    "\n",
    "def find_roots(a, b, c):\n",
    "    discriminant = b**2 - 4 * a * c\n",
    "    \n",
    "    if discriminant > 0:\n",
    "        root1 = (-b + math.sqrt(discriminant)) / (2 * a)\n",
    "        root2 = (-b - math.sqrt(discriminant)) / (2 * a)\n",
    "        print(f\"The equation has two real and distinct roots: {root1} and {root2}\")\n",
    "    elif discriminant == 0:\n",
    "        root = -b / (2 * a)\n",
    "        print(f\"The equation has two equal roots: {root}\")\n",
    "    else:\n",
    "        real_part = -b / (2 * a)\n",
    "        imaginary_part = math.sqrt(-discriminant) / (2 * a)\n",
    "        print(f\"The equation has two complex roots: {real_part} + {imaginary_part}i and {real_part} - {imaginary_part}i\")\n",
    "\n",
    "a = float(input(\"Enter the coefficient a: \"))\n",
    "b = float(input(\"Enter the coefficient b: \"))\n",
    "c = float(input(\"Enter the constant c: \"))\n",
    "\n",
    "if a == 0:\n",
    "    print(\"The coefficient 'a' cannot be zero for a quadratic equation.\")\n",
    "else:\n",
    "    find_roots(a, b, c)"
   ]
  },
  {
   "cell_type": "markdown",
   "id": "0bd27013-ff5d-409f-bedb-056387e6888b",
   "metadata": {},
   "source": [
    "##### 10. Write a program that prompts the user to enter three numbers and sorts them in ascending order. The program should print the sorted numbers. \n"
   ]
  },
  {
   "cell_type": "code",
   "execution_count": 24,
   "id": "7004260c-fbd7-472b-a85c-0ac7342d060e",
   "metadata": {},
   "outputs": [
    {
     "name": "stdin",
     "output_type": "stream",
     "text": [
      "Enter the first number:  6\n",
      "Enter the second number:  3\n",
      "Enter the third number:  1\n"
     ]
    },
    {
     "name": "stdout",
     "output_type": "stream",
     "text": [
      "The numbers in ascending order are:\n",
      "1.0 3.0 6.0\n"
     ]
    }
   ],
   "source": [
    "num1 = float(input(\"Enter the first number: \"))\n",
    "num2 = float(input(\"Enter the second number: \"))\n",
    "num3 = float(input(\"Enter the third number: \"))\n",
    "\n",
    "numbers = [num1, num2, num3]\n",
    "\n",
    "numbers.sort()\n",
    "\n",
    "print(\"The numbers in ascending order are:\")\n",
    "print(numbers[0], numbers[1], numbers[2])"
   ]
  },
  {
   "cell_type": "markdown",
   "id": "43b1691e-63ab-4834-ba3d-a2b70ef93709",
   "metadata": {},
   "source": [
    "##### 11. Write a program that prompts the user to input three integers and outputs the largest. \n"
   ]
  },
  {
   "cell_type": "code",
   "execution_count": 26,
   "id": "23ff55f6-b711-4539-9484-7c9d1141a190",
   "metadata": {},
   "outputs": [
    {
     "name": "stdin",
     "output_type": "stream",
     "text": [
      "Enter the first integer:  4\n",
      "Enter the second integer:  3\n",
      "Enter the third integer:  2\n"
     ]
    },
    {
     "name": "stdout",
     "output_type": "stream",
     "text": [
      "The largest number is: 4\n"
     ]
    }
   ],
   "source": [
    "num1 = int(input(\"Enter the first integer: \"))\n",
    "num2 = int(input(\"Enter the second integer: \"))\n",
    "num3 = int(input(\"Enter the third integer: \"))\n",
    "\n",
    "if num1 >= num2 and num1 >= num3:\n",
    "    largest = num1\n",
    "elif num2 >= num1 and num2 >= num3:\n",
    "    largest = num2\n",
    "else:\n",
    "    largest = num3\n",
    "\n",
    "print(f\"The largest number is: {largest}\")"
   ]
  },
  {
   "cell_type": "markdown",
   "id": "9a77e346-ff46-4922-a1fa-9419f20492ea",
   "metadata": {},
   "source": [
    "##### 12. Write a program that prompts the user to input a character and determine the character is vowel or consonant. "
   ]
  },
  {
   "cell_type": "code",
   "execution_count": 28,
   "id": "741ab41a-59cb-4418-b672-4a944db5083a",
   "metadata": {},
   "outputs": [
    {
     "name": "stdin",
     "output_type": "stream",
     "text": [
      "Enter a single character:  u\n"
     ]
    },
    {
     "name": "stdout",
     "output_type": "stream",
     "text": [
      "'u' is a vowel.\n"
     ]
    }
   ],
   "source": [
    "char = input(\"Enter a single character: \").lower()\n",
    "\n",
    "if len(char) == 1 and char.isalpha():\n",
    "    if char in 'aeiou':\n",
    "        print(f\"'{char}' is a vowel.\")\n",
    "    else:\n",
    "        print(f\"'{char}' is a consonant.\")\n",
    "else:\n",
    "    print(\"Invalid input. Please enter a single alphabetic character.\")"
   ]
  },
  {
   "cell_type": "markdown",
   "id": "46520bc1-658a-499a-ad39-b58fccce863f",
   "metadata": {},
   "source": [
    "##### 13. Write a program that prompts the user to input a year and determine whether the year is a leap year or not. Leap Years are any year that can be evenly divided by 4. A year that is evenly divisible by 100 is a leap year only if it is also evenly divisible by 400. Example:\n",
    "- 1992 Leap Year\n",
    "- 2000 Leap Year\n",
    "- 1900 NOT a Leap Year\n",
    "- 1995 NOT a Leap Year"
   ]
  },
  {
   "cell_type": "code",
   "execution_count": 30,
   "id": "77ca7dba-0365-46a4-b022-785c6fc59071",
   "metadata": {},
   "outputs": [
    {
     "name": "stdin",
     "output_type": "stream",
     "text": [
      "Enter a year:  1997\n"
     ]
    },
    {
     "name": "stdout",
     "output_type": "stream",
     "text": [
      "1997 is NOT a Leap Year\n"
     ]
    }
   ],
   "source": [
    "year = int(input(\"Enter a year: \"))\n",
    "\n",
    "if (year % 4 == 0 and year % 100 != 0) or (year % 400 == 0):\n",
    "    print(f\"{year} is a Leap Year\")\n",
    "else:\n",
    "    print(f\"{year} is NOT a Leap Year\")"
   ]
  },
  {
   "cell_type": "markdown",
   "id": "9f545143-832d-4872-acfd-a372fc82c873",
   "metadata": {},
   "source": [
    "##### 14. Write a program that prompts the user to input number of calls and calculate the monthly telephone bills as per the following rule: Minimum Rs. 200 for up to 100 calls. Plus Rs. 0.60 per call for next 50 calls. Plus Rs. 0.50 per call for next 50 calls. Plus Rs. 0.40 per call for any call beyond 200 calls. "
   ]
  },
  {
   "cell_type": "code",
   "execution_count": null,
   "id": "c1439630-c1f3-45ab-8ea0-4fa398939972",
   "metadata": {},
   "outputs": [],
   "source": [
    "calls = int(input(\"Enter the number of calls: \"))\n",
    "\n",
    "bill = 0\n",
    "\n",
    "if calls <= 100:\n",
    "    bill = 200  # Minimum charge\n",
    "elif calls <= 150:\n",
    "    bill = 200 + (calls - 100) * 0.60  # Additional charge for next 50 calls\n",
    "elif calls <= 200:\n",
    "    bill = 200 + (50 * 0.60) + (calls - 150) * 0.50  # Charges for next 50 calls\n",
    "else:\n",
    "    bill = 200 + (50 * 0.60) + (50 * 0.50) + (calls - 200) * 0.40  # Charges for calls beyond 200\n",
    "\n",
    "print(f\"The total telephone bill is: Rs. {bill:.2f}\")"
   ]
  }
 ],
 "metadata": {
  "kernelspec": {
   "display_name": "Python 3 (ipykernel)",
   "language": "python",
   "name": "python3"
  },
  "language_info": {
   "codemirror_mode": {
    "name": "ipython",
    "version": 3
   },
   "file_extension": ".py",
   "mimetype": "text/x-python",
   "name": "python",
   "nbconvert_exporter": "python",
   "pygments_lexer": "ipython3",
   "version": "3.12.3"
  }
 },
 "nbformat": 4,
 "nbformat_minor": 5
}
