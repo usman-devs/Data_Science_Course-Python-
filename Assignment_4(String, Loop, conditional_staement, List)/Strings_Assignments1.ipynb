{
 "cells": [
  {
   "cell_type": "markdown",
   "id": "f9d8a8c2-5926-48ee-9dec-5bea89e4f015",
   "metadata": {},
   "source": [
    "# Strings Assignments"
   ]
  },
  {
   "cell_type": "markdown",
   "id": "ce2c9124-53e5-4d6a-b663-2bf73e951165",
   "metadata": {},
   "source": [
    "#### 1. Write a program that accepts a string from user. Your program should count and display number of vowels in that string\n"
   ]
  },
  {
   "cell_type": "code",
   "execution_count": 11,
   "id": "3a613bd2-8fee-4396-9a5a-c26ef15f18a2",
   "metadata": {},
   "outputs": [
    {
     "name": "stdin",
     "output_type": "stream",
     "text": [
      "Pleaase enter a string:  Muhammad Usman\n"
     ]
    },
    {
     "name": "stdout",
     "output_type": "stream",
     "text": [
      "The number of vowels in the string is: 5\n"
     ]
    }
   ],
   "source": [
    "user_input = input(\"Pleaase enter a string: \")\n",
    "vowels = 'aeiouAEIOU'\n",
    "vowel_count = 0\n",
    "for char in user_input:\n",
    "    if char in vowels:\n",
    "        vowel_count +=1\n",
    "print(f\"The number of vowels in the string is: {vowel_count}\")"
   ]
  },
  {
   "cell_type": "markdown",
   "id": "95629e7a-1da7-4983-bf23-5fc0fb3f2f8d",
   "metadata": {},
   "source": [
    "### 2. Write a program that reads a string from keyboard and display:\n",
    "* The number of uppercase letters in the string\n",
    "* The number of lowercase letters in the string\n",
    "* The number of digits in the string\n",
    "* The number of whitespace characters in the string \n"
   ]
  },
  {
   "cell_type": "code",
   "execution_count": 15,
   "id": "42dd3dfb-94d5-4ac7-93bc-3aa6b348a14c",
   "metadata": {},
   "outputs": [
    {
     "name": "stdin",
     "output_type": "stream",
     "text": [
      "Please enter a string:  Muhammad Usman\n"
     ]
    },
    {
     "name": "stdout",
     "output_type": "stream",
     "text": [
      "Number of Uppercase letters: 2\n",
      "Number of Lowercase letter: 11\n",
      "Number of digit: 0\n",
      "Number of whitespace characters: 1\n"
     ]
    }
   ],
   "source": [
    "user_input = input(\"Please enter a string: \")\n",
    "uppercase_count = 0\n",
    "lowercase_count = 0\n",
    "digit_count= 0\n",
    "whitespace_count = 0\n",
    "for char in user_input:\n",
    "    if char.isupper():\n",
    "        uppercase_count+=1\n",
    "    elif char.islower():\n",
    "        lowercase_count+=1\n",
    "    elif char.isdigit():\n",
    "        digit_count+=1\n",
    "    elif char.isspace():\n",
    "        whitespace_count+=1\n",
    "print(f\"Number of Uppercase letters: {uppercase_count}\")\n",
    "print(f\"Number of Lowercase letter: {lowercase_count}\")\n",
    "print(f\"Number of digit: {digit_count}\")\n",
    "print(f\"Number of whitespace characters: {s}\")"
   ]
  },
  {
   "cell_type": "markdown",
   "id": "0c3c08ad-091e-4f9e-8c63-255b6e207052",
   "metadata": {},
   "source": [
    "#### 3. Write a Python program that accepts a string from user. Your program should create and display a new string where the first and last characters have been exchanged. \n",
    "#### For example if the user enters the string 'HELLO' then new string would be 'OELLH'"
   ]
  },
  {
   "cell_type": "code",
   "execution_count": 21,
   "id": "120a0296-fb6e-42da-ba36-749ab470349e",
   "metadata": {},
   "outputs": [
    {
     "name": "stdin",
     "output_type": "stream",
     "text": [
      "Please enter a string:  Muhammad\n"
     ]
    },
    {
     "name": "stdout",
     "output_type": "stream",
     "text": [
      "The new String: duhammaM\n"
     ]
    }
   ],
   "source": [
    "user_string = input(\"Please enter a string: \")\n",
    "if len(user_string) < 2:\n",
    "    print(\"The string must have at least two characters!\")\n",
    "else:\n",
    "    new_string = user_string[-1] + user_string[1:-1] + user_string[0]\n",
    "    print(f\"The new String: {new_string}\")"
   ]
  },
  {
   "cell_type": "markdown",
   "id": "d5357729-b61c-4665-9007-05f5490dac78",
   "metadata": {},
   "source": [
    "### 4. Write a Python program that accepts a string from user. Your program should create a new string in reverse of first string and display it.\n",
    "#### For example if the user enters the string 'EXAM' then new string would be 'MAXE' "
   ]
  },
  {
   "cell_type": "code",
   "execution_count": 9,
   "id": "341984dc-67c4-496d-a544-939ad06c4837",
   "metadata": {},
   "outputs": [
    {
     "name": "stdin",
     "output_type": "stream",
     "text": [
      "Please enter a strinng:  sir nasir \n"
     ]
    },
    {
     "name": "stdout",
     "output_type": "stream",
     "text": [
      "Revered string:   risan ris\n"
     ]
    }
   ],
   "source": [
    "original_string = input(\"Please enter a strinng: \")\n",
    "revered_string = original_string[::-1]\n",
    "print(\"Revered string: \",revered_string)"
   ]
  },
  {
   "cell_type": "markdown",
   "id": "9903b74b-b382-4ff5-a944-959fb82424de",
   "metadata": {},
   "source": [
    "#### 5. Write a Python program that accepts a string from user. Your program should create a new string by shifting one position to left.\n",
    "#### For example if the user enters the string 'examination 2021' then new string would be 'xamination 2021e' \n"
   ]
  },
  {
   "cell_type": "code",
   "execution_count": 16,
   "id": "c84ba392-20d1-4f08-bf51-a9b94fbb04eb",
   "metadata": {},
   "outputs": [
    {
     "name": "stdin",
     "output_type": "stream",
     "text": [
      "Enter a string:  muhammad USmnan\n"
     ]
    },
    {
     "name": "stdout",
     "output_type": "stream",
     "text": [
      "Shifted string: uhammad USmnanm\n"
     ]
    }
   ],
   "source": [
    "original_string = input(\"Enter a string: \")\n",
    "if len(original_string) > 0:\n",
    "    shifted_string = original_string[1: ]+ original_string[0]\n",
    "    print(f\"Shifted string: {shifted_string}\")\n",
    "else:\n",
    "    print(\"The string is empty, nothing to shift.\")"
   ]
  },
  {
   "cell_type": "markdown",
   "id": "a77f5a62-349c-4df4-a36b-aefd63cdbd2c",
   "metadata": {},
   "source": [
    "####  6. Write a program that asks the user to input his name and print its initials. Assuming that the user always types first name, middle name and last name and does not include any unnecessary spaces.\n",
    "#### For example, if the user enters Ajay Kumar Garg the program should display A. K. G.\n",
    "#### Note:Don't use split() method "
   ]
  },
  {
   "cell_type": "code",
   "execution_count": 26,
   "id": "21a0a77d-b2aa-452a-baba-2fd8378fa9e8",
   "metadata": {},
   "outputs": [
    {
     "name": "stdin",
     "output_type": "stream",
     "text": [
      "Enter your full name (First middle last):  muhammad Usman bhatti\n"
     ]
    },
    {
     "name": "stdout",
     "output_type": "stream",
     "text": [
      "Initials:  M. U. B.\n"
     ]
    }
   ],
   "source": [
    "full_name = input(\"Enter your full name (First middle last): \")\n",
    "initials =\"\"\n",
    "for i in range(len(full_name)):\n",
    "    if i == 0 or full_name[i-1] == ' ':  \n",
    "        initials += full_name[i].upper() + '. '\n",
    "print(f\"Initials: \", \tinitials.strip())"
   ]
  },
  {
   "cell_type": "markdown",
   "id": "be8e311b-6cec-422b-954d-1ac1f2be5b2e",
   "metadata": {},
   "source": [
    "#### 7. A palindrome is a string that reads the same backward as forward. For example, the words dad, madam and radar are all palindromes. Write a programs that determines whether the string is a palindrome.\n",
    "#### Note: do not use reverse() method\n",
    "\n"
   ]
  },
  {
   "cell_type": "code",
   "execution_count": 31,
   "id": "1302c1c3-f0e4-4d66-82d8-6e4703e8d6e3",
   "metadata": {},
   "outputs": [
    {
     "name": "stdin",
     "output_type": "stream",
     "text": [
      "Enter a string:  dad\n"
     ]
    },
    {
     "name": "stdout",
     "output_type": "stream",
     "text": [
      "The string is palindrome.\n"
     ]
    }
   ],
   "source": [
    "original_string = input(\"Enter a string: \")\n",
    "normalized_string = original_string.lower()\n",
    "if normalized_string == normalized_string[::-1]:\n",
    "    print(\"The string is palindrome.\")\n",
    "else:\n",
    "    print(\"The string is not a palindrome.\")"
   ]
  },
  {
   "cell_type": "markdown",
   "id": "fcac31b8-f0cc-47ce-8a5b-c75539aef763",
   "metadata": {},
   "source": [
    "#### 8. Write a program that display following output:\n",
    "- SHIFT\n",
    "- HIFTS\n",
    "- IFTSH\n",
    "- FTSHI\n",
    "- TSHIF\n",
    "- SHIFT \n"
   ]
  },
  {
   "cell_type": "code",
   "execution_count": 34,
   "id": "cf630b89-8251-4848-8e91-0068b34d4478",
   "metadata": {},
   "outputs": [
    {
     "name": "stdout",
     "output_type": "stream",
     "text": [
      "SHIFT\n",
      "HIFTS\n",
      "IFTSH\n",
      "FTSHI\n",
      "TSHIF\n",
      "SHIFT\n"
     ]
    }
   ],
   "source": [
    "input_string = \"SHIFT\"\n",
    "length = len(input_string)\n",
    "for i in range(length):\n",
    "    shifted_string = input_string[i:]+input_string[:i]\n",
    "    print(shifted_string)\n",
    "print(input_string)"
   ]
  },
  {
   "cell_type": "markdown",
   "id": "42815f53-08e7-484e-b0d1-9fa87e1e6783",
   "metadata": {},
   "source": [
    "#### 9. Write a program in python that accepts a string to setup a passwords. Your entered password must meet the following requirements: \n",
    "##### The password must be at least eight characters long.\n",
    "##### It must contain at least one uppercase letter.\n",
    "##### It must contain at least one lowercase letter.\n",
    "##### It must contain at least one numeric digit.\n",
    "##### Your program should should perform this validation. "
   ]
  },
  {
   "cell_type": "code",
   "execution_count": 49,
   "id": "62cda14d-4221-499c-9c5f-586bdf10a44c",
   "metadata": {},
   "outputs": [
    {
     "name": "stdin",
     "output_type": "stream",
     "text": [
      "Enter your password:  jshffkjdsgfgU\n"
     ]
    },
    {
     "name": "stdout",
     "output_type": "stream",
     "text": [
      "Password must conntain at least one numeric digit.\n"
     ]
    }
   ],
   "source": [
    "password = input(\"Enter your password: \")\n",
    "\n",
    "has_upper = False\n",
    "has_lower = False\n",
    "has_digit = False\n",
    "\n",
    "if len(password) < 8:\n",
    "    print(\"Password must be at least 8 characters long.\")\n",
    "else:\n",
    "    for char in password:\n",
    "        if char.isupper():\n",
    "            has_upper = True\n",
    "        elif char.islower():\n",
    "            has_lower = True\n",
    "        elif char.isdigit():\n",
    "            has_digit = True\n",
    "    if not has_upper:\n",
    "        print(\"Password must contain at least one uppercase letter.\")\n",
    "    elif not has_lower:\n",
    "        print(\"Password must contain at least one lowercase letter.\")\n",
    "    elif not has_digit:\n",
    "        print(\"Password must conntain at least one numeric digit.\")\n",
    "    else:\n",
    "        print(\"Password is valid.\")\n",
    "            "
   ]
  }
 ],
 "metadata": {
  "kernelspec": {
   "display_name": "Python 3 (ipykernel)",
   "language": "python",
   "name": "python3"
  },
  "language_info": {
   "codemirror_mode": {
    "name": "ipython",
    "version": 3
   },
   "file_extension": ".py",
   "mimetype": "text/x-python",
   "name": "python",
   "nbconvert_exporter": "python",
   "pygments_lexer": "ipython3",
   "version": "3.12.3"
  }
 },
 "nbformat": 4,
 "nbformat_minor": 5
}
