{
 "cells": [
  {
   "cell_type": "markdown",
   "id": "e7970a7a-0cc4-4d3e-861d-0c13637771b1",
   "metadata": {},
   "source": [
    "# List Assignment "
   ]
  },
  {
   "cell_type": "markdown",
   "id": "4063d75c-8c74-4685-853a-bc43606d51ca",
   "metadata": {},
   "source": [
    "#### 1. Write a program that accepts a list from user and print the alternate element of list. \n"
   ]
  },
  {
   "cell_type": "code",
   "execution_count": 9,
   "id": "900f063f-150e-436f-a988-fe1681a528d1",
   "metadata": {},
   "outputs": [
    {
     "name": "stdin",
     "output_type": "stream",
     "text": [
      "Enter a list of elements (comma separated):  ali,raza,waqas,gohar,malik,madni,bilal\n"
     ]
    },
    {
     "name": "stdout",
     "output_type": "stream",
     "text": [
      "Alternate elements of the  list are: \n",
      "ali\n",
      "waqas\n",
      "malik\n",
      "bilal\n"
     ]
    }
   ],
   "source": [
    "user_input = input(\"Enter a list of elements (comma separated): \")\n",
    "element_list = user_input.split(',')\n",
    "\n",
    "print(\"Alternate elements of the  list are: \")\n",
    "for i in range(0, len(element_list),2):\n",
    "    print(element_list[i])"
   ]
  },
  {
   "cell_type": "markdown",
   "id": "e49da500-b012-40e5-a8a7-2bdcccd84256",
   "metadata": {},
   "source": [
    "#### 2. Write a program that accepts a list from user. Your program should reverse the content of list and display it. Do not use reverse() method."
   ]
  },
  {
   "cell_type": "code",
   "execution_count": 15,
   "id": "1c583e2b-42fe-4dba-b3bd-0baad002a0fb",
   "metadata": {},
   "outputs": [
    {
     "name": "stdin",
     "output_type": "stream",
     "text": [
      "Enter a list of elements (comma separated: ) tahir,haleem,javed,imran\n"
     ]
    },
    {
     "name": "stdout",
     "output_type": "stream",
     "text": [
      "Reveresed list is: \n",
      "['imran', 'javed', 'haleem', 'tahir']\n"
     ]
    }
   ],
   "source": [
    "user_input = input('Enter a list of elements (comma separated: )')\n",
    "element_list = user_input.split(',')\n",
    "reversed_list = []\n",
    "for i in range(len(element_list)-1,-1,-1):\n",
    "    reversed_list.append(element_list[i])\n",
    "print('Reveresed list is: ')\n",
    "print(reversed_list)"
   ]
  },
  {
   "cell_type": "markdown",
   "id": "d0ef1673-c236-4f52-b701-1150997a61fd",
   "metadata": {},
   "source": [
    "####  3. Find and display the largest number of a list without using built-in function max(). Your program should ask the user to input values in list from keyboard. \n"
   ]
  },
  {
   "cell_type": "code",
   "execution_count": 20,
   "id": "95370d06-f2bb-4270-bc9c-8c027f198955",
   "metadata": {},
   "outputs": [
    {
     "name": "stdin",
     "output_type": "stream",
     "text": [
      "Enter a list of numbers (comma seperated):  23,43,55,34,76,44,56,99\n"
     ]
    },
    {
     "name": "stdout",
     "output_type": "stream",
     "text": [
      "The largest number is:  99\n"
     ]
    }
   ],
   "source": [
    "user_input = input('Enter a list of numbers (comma seperated): ')\n",
    "element_list = [int(num) for num in user_input.split(',')]\n",
    "largest_number = element_list[0]\n",
    "for num in element_list:\n",
    "    if num > largest_number:\n",
    "        largest_number = num\n",
    "print(\"The largest number is: \", largest_number)"
   ]
  },
  {
   "cell_type": "markdown",
   "id": "5dca63dc-e1e1-450a-8abe-d62a5657e96e",
   "metadata": {},
   "source": [
    "#### 4. Write a program that rotates the element of a list so that the element at the first index moves to the second index, the element in the second index moves to the third index, etc., and the element in the last index moves to the first index. \n"
   ]
  },
  {
   "cell_type": "code",
   "execution_count": 1,
   "id": "31e81cb7-c497-42f8-94c9-5e0b8f304e37",
   "metadata": {},
   "outputs": [
    {
     "name": "stdout",
     "output_type": "stream",
     "text": [
      "Rorated list:  [10, 2, 4, 6, 8]\n"
     ]
    }
   ],
   "source": [
    "my_list = [2,4,6,8,10]\n",
    "last_element = my_list[-1]\n",
    "for i in range(len(my_list)-1,0,-1):\n",
    "    my_list[i] = my_list[i-1]\n",
    "my_list[0] = last_element\n",
    "print(\"Rorated list: \",my_list)"
   ]
  },
  {
   "cell_type": "markdown",
   "id": "a88ac647-6ed6-416c-9391-d72fe542a908",
   "metadata": {},
   "source": [
    "#### 5. Write a program that input a string and ask user to delete a given word from a string. \n"
   ]
  },
  {
   "cell_type": "code",
   "execution_count": 6,
   "id": "4cd904a2-8da1-4133-a135-3a2a042bf1ec",
   "metadata": {},
   "outputs": [
    {
     "name": "stdin",
     "output_type": "stream",
     "text": [
      "Enter the original string:  how are you usman? how is your father?\n",
      "Enter the word you want to delete:  how\n"
     ]
    },
    {
     "name": "stdout",
     "output_type": "stream",
     "text": [
      "String after deleting:  are you usman? is your father?\n"
     ]
    }
   ],
   "source": [
    "original_string = input(\"Enter the original string: \")\n",
    "words_list = original_string.split()\n",
    "word_to_delete = input(\"Enter the word you want to delete: \")\n",
    "status = False\n",
    "for word in words_list:\n",
    "    if word == word_to_delete:\n",
    "        words_list.remove(word)\n",
    "        status = True\n",
    "if status:\n",
    "    original_string = ' '.join(words_list)\n",
    "    print(\"String after deleting: \",original_string)\n",
    "else:\n",
    "    print(\"Word not present in string.\")\n"
   ]
  },
  {
   "cell_type": "markdown",
   "id": "1d5c6117-50cf-497a-b6ab-aa5e03ec5731",
   "metadata": {},
   "source": [
    "####  6. Write a program that reads a string from the user containing a date in the form mm/dd/yyyy. It should print the date in the form March 12, 2021."
   ]
  },
  {
   "cell_type": "code",
   "execution_count": 33,
   "id": "206bc330-60ac-4317-828e-002ace28ad56",
   "metadata": {},
   "outputs": [
    {
     "name": "stdin",
     "output_type": "stream",
     "text": [
      "Enter the date in mm/dd/yyyy format:  12/10/2024\n"
     ]
    },
    {
     "name": "stdout",
     "output_type": "stream",
     "text": [
      "The formatted date is: December 10, 2024\n"
     ]
    }
   ],
   "source": [
    "from datetime import datetime\n",
    "date_input = input(\"Enter the date in mm/dd/yyyy format: \")\n",
    "date_object = datetime.strptime(date_input,\"%m/%d/%Y\")\n",
    "formatted_date = date_object.strftime(\"%B %d, %Y\")\n",
    "print(f\"The formatted date is: {formatted_date}\")"
   ]
  },
  {
   "cell_type": "markdown",
   "id": "d7ef8a31-a96e-413d-bab3-f3362a564041",
   "metadata": {},
   "source": [
    "####  7. Write a program with a function that accepts a string from keyboard and create a new string after converting character of each word capitalized. For instance, if the sentence is \"stop and smell the roses.\" the output should be \"Stop And Smell The Roses\""
   ]
  },
  {
   "cell_type": "code",
   "execution_count": 36,
   "id": "b87d3e42-7588-47e0-9a99-4274d3ba2ef4",
   "metadata": {},
   "outputs": [
    {
     "name": "stdin",
     "output_type": "stream",
     "text": [
      "Enter a sentence:  The world so awesome.\n"
     ]
    },
    {
     "name": "stdout",
     "output_type": "stream",
     "text": [
      "Capitalized Sentence: The World So Awesome.\n"
     ]
    }
   ],
   "source": [
    "def capitalize_words(input_string):\n",
    "    words = input_string.split()\n",
    "    capitalize_string = ' '.join([word.capitalize() for word in words])\n",
    "\n",
    "    return capitalize_string\n",
    "user_input = input(\"Enter a sentence: \")\n",
    "result = capitalize_words(user_input)\n",
    "print(f\"Capitalized Sentence: {result}\")"
   ]
  },
  {
   "cell_type": "markdown",
   "id": "21a7763f-a1dc-426b-b203-0951b5decb5d",
   "metadata": {},
   "source": [
    "#### 8. Find the sum of each row of matrix of size m x n. For example for the following matrix output will be like this :    \n",
    "-         2, 11, 7, 12\n",
    "-         5, 2, 9, 15\n",
    "-         8, 3, 10, 42    \n",
    "##### sum of row 1 = 32, \n",
    "##### sum of row 2 = 31, \n",
    "##### sum of row 3 = 63 "
   ]
  },
  {
   "cell_type": "code",
   "execution_count": 40,
   "id": "8471f318-cee9-47d4-9465-be79fb5a0ff5",
   "metadata": {},
   "outputs": [
    {
     "name": "stdout",
     "output_type": "stream",
     "text": [
      "Sum of row 1 = 32\n",
      "Sum of row 2 = 31\n",
      "Sum of row 3 = 63\n"
     ]
    }
   ],
   "source": [
    "def row_sum(matrix):\n",
    "    for i, row in enumerate(matrix):\n",
    "        print(f\"Sum of row {i + 1} = {sum(row)}\")\n",
    "matrix = [\n",
    "    [2, 11, 7, 12],\n",
    "    [5, 2, 9, 15],\n",
    "    [8, 3, 10, 42]\n",
    "]\n",
    "row_sum(matrix)"
   ]
  },
  {
   "cell_type": "markdown",
   "id": "25448eae-0e2a-437f-83a5-24979ddbe166",
   "metadata": {},
   "source": [
    "#### 9. Write a program to add two matrices of size n x m. \n"
   ]
  },
  {
   "cell_type": "code",
   "execution_count": 19,
   "id": "9c1fcef3-dce8-4ba7-8a02-ec555de62dbb",
   "metadata": {},
   "outputs": [
    {
     "name": "stdout",
     "output_type": "stream",
     "text": [
      "[40, 10, 10]\n",
      "[10, 40, 10]\n",
      "[10, 10, 40]\n"
     ]
    }
   ],
   "source": [
    "def add_matrices(matrix1, matrix2):\n",
    "    if len(matrix1) != len(matrix2) or len(matrix1[0]) != len(matrix2[0]):\n",
    "        raise ValueError(\"Matrixes must have the same dimensions\")\n",
    "    result = []\n",
    "    for i in range(len(matrix1)):\n",
    "        row = []\n",
    "        for j in range(len(matrix1[0])):\n",
    "            row.append(matrix1[i][j] + matrix2[i][j])\n",
    "        result.append(row)\n",
    "    return result\n",
    "matrix1 = [\n",
    "    [31, 2, 3],\n",
    "    [4, 35, 6],\n",
    "    [7, 8, 39]\n",
    "]\n",
    "\n",
    "matrix2 = [\n",
    "    [9, 8, 7],\n",
    "    [6, 5, 4],\n",
    "    [3, 2, 1]\n",
    "]\n",
    "try:\n",
    "    result = add_matrices(matrix1, matrix2)\n",
    "    for row in result:\n",
    "        print(row)\n",
    "except ValueError as e:\n",
    "    print(e)"
   ]
  },
  {
   "cell_type": "markdown",
   "id": "bebbcf6d-4c62-4dd4-8c1c-c61119984b65",
   "metadata": {},
   "source": [
    "### 10. Write a program to multiply two matrices "
   ]
  },
  {
   "cell_type": "code",
   "execution_count": 4,
   "id": "4c3a86cd-37da-4205-b729-215f9f3ae68f",
   "metadata": {},
   "outputs": [
    {
     "name": "stdout",
     "output_type": "stream",
     "text": [
      "Resultant Matrix:\n",
      "[30, 24, 18]\n",
      "[84, 69, 54]\n",
      "[138, 114, 90]\n"
     ]
    }
   ],
   "source": [
    "A = [\n",
    "    [1, 2, 3],\n",
    "    [4, 5, 6],\n",
    "    [7, 8, 9]\n",
    "]\n",
    "\n",
    "B = [\n",
    "    [9, 8, 7],\n",
    "    [6, 5, 4],\n",
    "    [3, 2, 1]\n",
    "]\n",
    "\n",
    "rows_A = len(A)\n",
    "cols_B = len(B[0])\n",
    "cols_A = len(A[0])\n",
    "\n",
    "result = [[0 for _ in range(cols_B)] for _ in range(rows_A)]\n",
    "\n",
    "for i in range(rows_A):\n",
    "    for j in range(cols_B):\n",
    "        for k in range(cols_A):\n",
    "            result[i][j] += A[i][k] * B[k][j]\n",
    "\n",
    "print(\"Resultant Matrix:\")\n",
    "for row in result:\n",
    "    print(row)\n"
   ]
  }
 ],
 "metadata": {
  "kernelspec": {
   "display_name": "Python 3 (ipykernel)",
   "language": "python",
   "name": "python3"
  },
  "language_info": {
   "codemirror_mode": {
    "name": "ipython",
    "version": 3
   },
   "file_extension": ".py",
   "mimetype": "text/x-python",
   "name": "python",
   "nbconvert_exporter": "python",
   "pygments_lexer": "ipython3",
   "version": "3.12.3"
  }
 },
 "nbformat": 4,
 "nbformat_minor": 5
}
