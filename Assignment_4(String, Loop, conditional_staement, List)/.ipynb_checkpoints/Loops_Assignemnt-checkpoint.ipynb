{
 "cells": [
  {
   "cell_type": "markdown",
   "id": "599644dd-5a22-4604-8557-93f60e675a5a",
   "metadata": {},
   "source": [
    "### Looping Structures \n"
   ]
  },
  {
   "cell_type": "markdown",
   "id": "a8be489e-91f4-4cb1-920f-d6eb957ad7f5",
   "metadata": {},
   "source": [
    "##### 1. Write a Python program to print the numbers from 1 to 10 using a for loop. "
   ]
  },
  {
   "cell_type": "code",
   "execution_count": 51,
   "id": "d9336785-8c23-4f9b-b033-a7aec29a8d1c",
   "metadata": {},
   "outputs": [
    {
     "name": "stdout",
     "output_type": "stream",
     "text": [
      "1\n",
      "2\n",
      "3\n",
      "4\n",
      "5\n",
      "6\n",
      "7\n",
      "8\n",
      "9\n",
      "10\n"
     ]
    }
   ],
   "source": [
    "for number in range(1, 11):\n",
    "    print(number)"
   ]
  },
  {
   "cell_type": "markdown",
   "id": "73778275-48e4-4cde-a121-b9e68342d5d6",
   "metadata": {},
   "source": [
    "##### 2. Write a Python program to print the numbers from 20 to 1 using a while loop.\n"
   ]
  },
  {
   "cell_type": "code",
   "execution_count": 54,
   "id": "f606a20b-7cf8-4679-bfa3-f561b15933eb",
   "metadata": {},
   "outputs": [
    {
     "name": "stdout",
     "output_type": "stream",
     "text": [
      "20\n",
      "19\n",
      "18\n",
      "17\n",
      "16\n",
      "15\n",
      "14\n",
      "13\n",
      "12\n",
      "11\n",
      "10\n",
      "9\n",
      "8\n",
      "7\n",
      "6\n",
      "5\n",
      "4\n",
      "3\n",
      "2\n",
      "1\n"
     ]
    }
   ],
   "source": [
    "number = 20\n",
    "while number >= 1:\n",
    "    print(number)\n",
    "    number -= 1"
   ]
  },
  {
   "cell_type": "markdown",
   "id": "85a64ca5-c57c-4653-a978-b0fa737d6641",
   "metadata": {},
   "source": [
    "##### 3. Write a program to print even numbers from 1 to 10. "
   ]
  },
  {
   "cell_type": "code",
   "execution_count": 57,
   "id": "27d6f7ae-3742-414d-add8-5b1c080491ee",
   "metadata": {},
   "outputs": [
    {
     "name": "stdout",
     "output_type": "stream",
     "text": [
      "2\n",
      "4\n",
      "6\n",
      "8\n",
      "10\n"
     ]
    }
   ],
   "source": [
    "for number in range(1, 11):\n",
    "    if number % 2 == 0:\n",
    "        print(number)"
   ]
  },
  {
   "cell_type": "markdown",
   "id": "e5df0aa8-952b-4f83-b90f-f9cc6fb30ced",
   "metadata": {},
   "source": [
    "##### 4. Write a program that prompts the user to enter a number n and prints all the numbers from 1 to n. "
   ]
  },
  {
   "cell_type": "code",
   "execution_count": 62,
   "id": "7e84634a-14bd-4757-9b04-d0d1c6323437",
   "metadata": {},
   "outputs": [
    {
     "name": "stdin",
     "output_type": "stream",
     "text": [
      "Enter a number:  3\n"
     ]
    },
    {
     "name": "stdout",
     "output_type": "stream",
     "text": [
      "1\n",
      "2\n",
      "3\n"
     ]
    }
   ],
   "source": [
    "n = int(input(\"Enter a number: \"))\n",
    "\n",
    "for number in range(1, n + 1):\n",
    "    print(number)"
   ]
  },
  {
   "cell_type": "markdown",
   "id": "763da9cb-d18c-425f-ac41-7f9cf0ef5b4e",
   "metadata": {},
   "source": [
    "##### 5. Write a program that prompts the user to enter a number n, and then prints all the odd numbers between 1 and n. \n"
   ]
  },
  {
   "cell_type": "code",
   "execution_count": 64,
   "id": "d3b94f89-3d61-4547-b5eb-f894134bff8f",
   "metadata": {},
   "outputs": [
    {
     "name": "stdin",
     "output_type": "stream",
     "text": [
      "Enter a number:  3\n"
     ]
    },
    {
     "name": "stdout",
     "output_type": "stream",
     "text": [
      "1\n",
      "3\n"
     ]
    }
   ],
   "source": [
    "n = int(input(\"Enter a number: \"))\n",
    "\n",
    "for number in range(1, n + 1):\n",
    "    if number % 2 != 0:\n",
    "        print(number)"
   ]
  },
  {
   "cell_type": "markdown",
   "id": "a343788a-cc6a-46d5-8621-90bdb69183cd",
   "metadata": {},
   "source": [
    "##### 6. Write a program that prints 'Happy Birthday!' five times on screen."
   ]
  },
  {
   "cell_type": "code",
   "execution_count": 66,
   "id": "b47c5681-8663-4f2a-817a-11a0ea0bf200",
   "metadata": {},
   "outputs": [
    {
     "name": "stdout",
     "output_type": "stream",
     "text": [
      "Happy Birthday!\n",
      "Happy Birthday!\n",
      "Happy Birthday!\n",
      "Happy Birthday!\n",
      "Happy Birthday!\n"
     ]
    }
   ],
   "source": [
    "for _ in range(5):\n",
    "    print(\"Happy Birthday!\")"
   ]
  },
  {
   "cell_type": "markdown",
   "id": "dd7ecc44-bef5-47de-ad22-e8526d21b2c1",
   "metadata": {},
   "source": [
    "##### 7. Write a program that takes a number n as input from the user and generates the first n terms of the series formed by squaring the natural numbers. \n",
    "- Sample output\n",
    "- Enter a number: 6\n",
    "- The first 6 terms of the series are:\n",
    "- 1 4 9 16 25 36 \n"
   ]
  },
  {
   "cell_type": "code",
   "execution_count": 68,
   "id": "0d695045-6d7a-42be-bf1b-3d7d698539f7",
   "metadata": {},
   "outputs": [
    {
     "name": "stdin",
     "output_type": "stream",
     "text": [
      "Enter a number:  3\n"
     ]
    },
    {
     "name": "stdout",
     "output_type": "stream",
     "text": [
      "1\n",
      "4\n",
      "9\n"
     ]
    }
   ],
   "source": [
    "n = int(input(\"Enter a number: \"))\n",
    "\n",
    "for number in range(1, n + 1):\n",
    "    print(number ** 2)"
   ]
  },
  {
   "cell_type": "markdown",
   "id": "a77a59a0-e133-4df4-befd-46f0718d0cdb",
   "metadata": {},
   "source": [
    "##### 8. Write a program that prompts the user to input a number and prints its multiplication table. \n"
   ]
  },
  {
   "cell_type": "code",
   "execution_count": 70,
   "id": "b1ff34be-7d02-4789-bf50-dfb618b87370",
   "metadata": {},
   "outputs": [
    {
     "name": "stdin",
     "output_type": "stream",
     "text": [
      "Enter a number:  33\n"
     ]
    },
    {
     "name": "stdout",
     "output_type": "stream",
     "text": [
      "33 x 1 = 33\n",
      "33 x 2 = 66\n",
      "33 x 3 = 99\n",
      "33 x 4 = 132\n",
      "33 x 5 = 165\n",
      "33 x 6 = 198\n",
      "33 x 7 = 231\n",
      "33 x 8 = 264\n",
      "33 x 9 = 297\n",
      "33 x 10 = 330\n"
     ]
    }
   ],
   "source": [
    "number = int(input(\"Enter a number: \"))\n",
    "\n",
    "for i in range(1, 11):\n",
    "    print(f\"{number} x {i} = {number * i}\")\n"
   ]
  },
  {
   "cell_type": "markdown",
   "id": "68e219ac-129d-4097-baae-c10fbbaae5bb",
   "metadata": {},
   "source": [
    "##### 9. Write a Python program to print the first 8 terms of an arithmetic progression starting with 3 and having a common difference of 4. The program should output the following sequence: 3 7 11 15 19 23 27 31 "
   ]
  },
  {
   "cell_type": "code",
   "execution_count": 72,
   "id": "e1ffc439-fb07-404a-b486-0c640ee7dd03",
   "metadata": {},
   "outputs": [
    {
     "name": "stdout",
     "output_type": "stream",
     "text": [
      "3 7 11 15 19 23 27 31 "
     ]
    }
   ],
   "source": [
    "start = 3  # First term\n",
    "difference = 4  # Common difference\n",
    "terms = 8  # Number of terms to print\n",
    "\n",
    "for i in range(terms):\n",
    "    print(start + i * difference, end=\" \")\n"
   ]
  },
  {
   "cell_type": "markdown",
   "id": "02d5ef6d-ba5c-4d0a-81cd-0247c5a6cfee",
   "metadata": {},
   "source": [
    "##### 10. Write a Python program to print the first 6 terms of a geometric sequence starting with 2 and having a common ratio of 3. The program should output the following sequence: 2 6 18 54 162 486 "
   ]
  },
  {
   "cell_type": "code",
   "execution_count": 34,
   "id": "864b5fe5-aaaf-4082-aefb-582e308fd739",
   "metadata": {},
   "outputs": [
    {
     "name": "stdout",
     "output_type": "stream",
     "text": [
      "2 6 18 54 162 486 "
     ]
    }
   ],
   "source": [
    "start = 2  # First term\n",
    "ratio = 3  # Common ratio\n",
    "terms = 6  # Number of terms to print\n",
    "\n",
    "for i in range(terms):\n",
    "    print(start * (ratio ** i), end=\" \")\n"
   ]
  },
  {
   "cell_type": "markdown",
   "id": "ae6c9e3a-8f56-4974-83e5-2f09d37a787d",
   "metadata": {},
   "source": [
    "##### 11. Write a program that asks the user for a positive integer value. The program should calculate the sum of all the integers from 1 up to the number entered. For example, if the user enters 20, the loop will find the sum of 1, 2, 3, 4, ... 20. "
   ]
  },
  {
   "cell_type": "code",
   "execution_count": 37,
   "id": "b9f04e3a-0000-4f45-9810-1d0a754f05f0",
   "metadata": {},
   "outputs": [
    {
     "name": "stdin",
     "output_type": "stream",
     "text": [
      "Enter a positive integer:  10\n"
     ]
    },
    {
     "name": "stdout",
     "output_type": "stream",
     "text": [
      "The sum of integers from 1 to 10 is: 55\n"
     ]
    }
   ],
   "source": [
    "n = int(input(\"Enter a positive integer: \"))\n",
    "\n",
    "# Initialize sum variable\n",
    "total_sum = 0\n",
    "\n",
    "# Loop to calculate the sum\n",
    "for i in range(1, n + 1):\n",
    "    total_sum += i\n",
    "\n",
    "print(f\"The sum of integers from 1 to {n} is: {total_sum}\")\n"
   ]
  },
  {
   "cell_type": "markdown",
   "id": "ba5d9f04-9724-4dfc-94d3-e08a50c68d5d",
   "metadata": {},
   "source": [
    "##### 12. write a program that takes a positive integer N as input and calculates the sum of the reciprocals of all numbers from 1 up to N. The program should display the final sum. Output of the program should be like: Enter a positive integer: 5 The sum of reciprocals from 1 to 5 is: 2.28"
   ]
  },
  {
   "cell_type": "code",
   "execution_count": 40,
   "id": "6ef926b5-d800-4f88-9233-95ae338b480a",
   "metadata": {},
   "outputs": [
    {
     "name": "stdin",
     "output_type": "stream",
     "text": [
      "Enter a positive integer:  10\n"
     ]
    },
    {
     "name": "stdout",
     "output_type": "stream",
     "text": [
      "The sum of reciprocals from 1 to 10 is: 2.93\n"
     ]
    }
   ],
   "source": [
    "N = int(input(\"Enter a positive integer: \"))\n",
    "\n",
    "if N > 0:\n",
    "    total_sum = 0\n",
    "    for i in range(1, N + 1):\n",
    "        total_sum += 1 / i\n",
    "    \n",
    "    print(f\"The sum of reciprocals from 1 to {N} is: {total_sum:.2f}\")\n",
    "else:\n",
    "    print(\"Please enter a positive integer.\")\n"
   ]
  },
  {
   "cell_type": "markdown",
   "id": "6c5e08bf-508c-4bce-8e30-f8726eb7913a",
   "metadata": {},
   "source": [
    "##### 13. Write a program that prompts the user to enter a number and repeats this process 5 times. The program should accumulate the numbers entered and then display the final running total. Sample Output:\n",
    "##### Enter a number: 10\n",
    "##### Enter a number: 15\n",
    "##### Enter a number: 35\n",
    "##### Enter a number: 40\n",
    "##### Enter a number: 50\n",
    "##### The final running total is: 150"
   ]
  },
  {
   "cell_type": "code",
   "execution_count": 43,
   "id": "fa87d913-e651-43ce-a9fb-df9b3e9fb3c0",
   "metadata": {},
   "outputs": [
    {
     "name": "stdin",
     "output_type": "stream",
     "text": [
      "Enter a number:  10\n",
      "Enter a number:  20\n",
      "Enter a number:  30\n",
      "Enter a number:  40\n",
      "Enter a number:  50\n"
     ]
    },
    {
     "name": "stdout",
     "output_type": "stream",
     "text": [
      "The final running total is: 150\n"
     ]
    }
   ],
   "source": [
    "total = 0\n",
    "\n",
    "for i in range(5):\n",
    "        number = int(input(\"Enter a number: \"))\n",
    "       total += number\n",
    "\n",
    "print(\"The final running total is:\", total)\n"
   ]
  },
  {
   "cell_type": "markdown",
   "id": "8bc44b2c-2407-4020-97ee-67e7d53ce104",
   "metadata": {},
   "source": [
    "##### 14. Write a program that prompts the user to enter a positive integer and calculates its factorial. The factorial of a positive integer 'n' is denoted as 'n!' and is calculated by multiplying all the integers from 1 to 'n' together. For example, the factorial of 5 (denoted as 5!) is calculated as 1 x 2 x 3 x 4 x 5. The program should display the factorial value if the input is a positive number, or display a message stating that the factorial does not exist for negative numbers. Additionally, for an input of zero, the program should output that the factorial of 0 is 1. \n"
   ]
  },
  {
   "cell_type": "code",
   "execution_count": 46,
   "id": "3411631c-9964-44f3-919d-d6a916655e85",
   "metadata": {},
   "outputs": [
    {
     "name": "stdin",
     "output_type": "stream",
     "text": [
      "Enter a positive integer:  10\n"
     ]
    },
    {
     "name": "stdout",
     "output_type": "stream",
     "text": [
      "The factorial of 10 is 3628800.\n"
     ]
    }
   ],
   "source": [
    "n = int(input(\"Enter a positive integer: \"))\n",
    "if n < 0:\n",
    "    print(\"Factorial does not exist for negative numbers.\")\n",
    "elif n == 0:\n",
    "    print(\"The factorial of 0 is 1.\")\n",
    "else:\n",
    "      factorial = 1\n",
    "    for i in range(1, n + 1):\n",
    "        factorial *= i\n",
    "    print(f\"The factorial of {n} is {factorial}.\")\n"
   ]
  },
  {
   "cell_type": "markdown",
   "id": "1f847b88-4063-4c37-b6c1-4fc98320a8ef",
   "metadata": {},
   "source": [
    "##### 15. Write a Python program that prompts the user to enter a base number and an exponent, and then calculates the power of the base to the exponent. The program should not use the exponentiation operator (**) or the math.pow() function. The program should handle both positive and negative exponents. "
   ]
  },
  {
   "cell_type": "code",
   "execution_count": 49,
   "id": "3f46fd8f-5674-42a6-b4f1-8886856433b7",
   "metadata": {},
   "outputs": [
    {
     "name": "stdin",
     "output_type": "stream",
     "text": [
      "Enter the base number:  10\n",
      "Enter the exponent:  2\n"
     ]
    },
    {
     "name": "stdout",
     "output_type": "stream",
     "text": [
      "10.0 raised to the power of 2 is 100.0.\n"
     ]
    }
   ],
   "source": [
    "base = float(input(\"Enter the base number: \"))\n",
    "exponent = int(input(\"Enter the exponent: \"))\n",
    "result = 1\n",
    "if exponent >= 0:\n",
    "    for i in range(exponent):\n",
    "        result *= base\n",
    "else:\n",
    "    for i in range(abs(exponent)):\n",
    "        result *= base\n",
    "    result = 1 / result  # For negative exponents, take the reciprocal\n",
    "\n",
    "print(f\"{base} raised to the power of {exponent} is {result}.\")\n"
   ]
  },
  {
   "cell_type": "code",
   "execution_count": null,
   "id": "ca854426-cdd0-47bf-a274-e7203ff7b356",
   "metadata": {},
   "outputs": [],
   "source": []
  }
 ],
 "metadata": {
  "kernelspec": {
   "display_name": "Python 3 (ipykernel)",
   "language": "python",
   "name": "python3"
  },
  "language_info": {
   "codemirror_mode": {
    "name": "ipython",
    "version": 3
   },
   "file_extension": ".py",
   "mimetype": "text/x-python",
   "name": "python",
   "nbconvert_exporter": "python",
   "pygments_lexer": "ipython3",
   "version": "3.12.3"
  }
 },
 "nbformat": 4,
 "nbformat_minor": 5
}
