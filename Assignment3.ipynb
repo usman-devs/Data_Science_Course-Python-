{
 "cells": [
  {
   "cell_type": "markdown",
   "id": "c00a8283-6b22-406d-a7e8-ad42db83fc5a",
   "metadata": {},
   "source": [
    "# Python If Else Practice Questions (28th November 2024)"
   ]
  },
  {
   "cell_type": "markdown",
   "id": "dfcb07f6-a7d0-42e7-bcc5-9e8bf19fa35b",
   "metadata": {},
   "source": [
    "## A- Discounts and Pricing"
   ]
  },
  {
   "cell_type": "markdown",
   "id": "75bf161d-b34f-4fdd-acc8-89b44fb5ccdb",
   "metadata": {},
   "source": [
    "### 1. Check Discount Eligibility\n",
    "- Write a program to check if a customer is eligible for a discount. If the total purchase is\n",
    "more than $100, apply a 10% discount and display the final price. Otherwise, display the\n",
    "total price as it is"
   ]
  },
  {
   "cell_type": "code",
   "execution_count": 9,
   "id": "ff33e4c1-c736-4b31-98e7-c94271f34531",
   "metadata": {},
   "outputs": [
    {
     "name": "stdin",
     "output_type": "stream",
     "text": [
      "Enter the total purchase:  20\n"
     ]
    },
    {
     "name": "stdout",
     "output_type": "stream",
     "text": [
      "The payable amount is: $20.0\n"
     ]
    }
   ],
   "source": [
    "total_purchase = float(input(\"Enter the total purchase: \"))\n",
    "if total_purchase > 100:\n",
    "    discount = total_purchase*0.10\n",
    "    print(f\"The amount after discount is: ${total_purchase-discount}\")\n",
    "else:\n",
    "    print(f\"The payable amount is: ${total_purchase}\")"
   ]
  },
  {
   "cell_type": "markdown",
   "id": "57839770-9961-410e-bd68-1b98fa9dd96a",
   "metadata": {},
   "source": [
    "### 2. Calculate Bulk Discount\n",
    "- If a customer buys more than 5 items, apply a 15% discount on the total price. Otherwise,\n",
    "no discount is applied. Display the total price."
   ]
  },
  {
   "cell_type": "code",
   "execution_count": 16,
   "id": "800c2592-fbe7-4dc0-bf96-c5404168ff28",
   "metadata": {},
   "outputs": [
    {
     "name": "stdin",
     "output_type": "stream",
     "text": [
      "Enter the total price:  20000\n",
      "Enter the number of items:  6\n"
     ]
    },
    {
     "name": "stdout",
     "output_type": "stream",
     "text": [
      "The total price after discount: 17000.0\n"
     ]
    }
   ],
   "source": [
    "total_price = int(input(\"Enter the total price: \"))\n",
    "number_of_items = int(input(\"Enter the number of items: \"))\n",
    "if number_of_items >5:\n",
    "    discount = total_price*0.15\n",
    "    print(f\"The total price after discount: {total_price-discount}\")\n",
    "else:\n",
    "    print(f\"The payable amount: {total_price}\")"
   ]
  },
  {
   "cell_type": "markdown",
   "id": "2e400150-914b-48d7-8433-85f32c487c4c",
   "metadata": {},
   "source": [
    "### 3. Membership Discount\n",
    "- Check if the customer is a member (is_member = True). Members get a 20% discount;\n",
    "non-members get a 5% discount. Calculate and print the discounted price."
   ]
  },
  {
   "cell_type": "code",
   "execution_count": 29,
   "id": "3145227f-8f62-47d7-b8de-bd6e73d4fa39",
   "metadata": {},
   "outputs": [
    {
     "name": "stdin",
     "output_type": "stream",
     "text": [
      "Enter the price:  2000\n",
      "Are you a member? (true/false):  false\n"
     ]
    },
    {
     "name": "stdout",
     "output_type": "stream",
     "text": [
      "The discounted price: 1900.0\n"
     ]
    }
   ],
   "source": [
    "price = int(input(\"Enter the price: \"))\n",
    "is_member_input = input(\"Are you a member? (true/false): \").strip().lower()\n",
    "is_member = is_member_input == \"true\"\n",
    "if is_member:\n",
    "    discount=price*0.20\n",
    "    print(f\"The discounted price: {price-discount_20}\")\n",
    "else:\n",
    "    discount_5 = price * 0.05  \n",
    "    print(f\"The discounted price: {price - discount_5}\")\n"
   ]
  },
  {
   "cell_type": "markdown",
   "id": "b18b7596-b123-48b6-b6ac-69c94abff0f8",
   "metadata": {},
   "source": [
    "### 4. Seasonal Sale\n",
    "- If today is a holiday (is_holiday = True), apply a 25% discount; otherwise, apply a 10%\n",
    "discount. Calculate the price after discount."
   ]
  },
  {
   "cell_type": "code",
   "execution_count": 34,
   "id": "56e3b6b8-7d78-4a33-825b-d05cc9d65720",
   "metadata": {},
   "outputs": [
    {
     "name": "stdin",
     "output_type": "stream",
     "text": [
      "Enter the price:  1000\n",
      "Is today a holiday? (true/false):  false\n"
     ]
    },
    {
     "name": "stdout",
     "output_type": "stream",
     "text": [
      "The discounted price: 900.0\n"
     ]
    }
   ],
   "source": [
    "price = int(input(\"Enter the price: \"))\n",
    "is_holiday_input = input(\"Is today a holiday? (true/false): \").strip().lower()\n",
    "is_holiday = is_holiday_input==\"true\"\n",
    "if is_holiday:\n",
    "    discount = price*0.25\n",
    "    print(f\"The discounted price: {price-discount}\")\n",
    "else:\n",
    "    discount = price*0.10\n",
    "    print(f\"The discounted price: {price-discount}\")"
   ]
  },
  {
   "cell_type": "markdown",
   "id": "e8edd589-3224-48fc-af4b-3b011af340da",
   "metadata": {},
   "source": [
    "### 5. Buy-One-Get-One-Free\n",
    "- If a customer buys an even number of items, they get half of them for free. Otherwise,\n",
    "they pay for all. Calculate the number of items the customer has to pay for.\n"
   ]
  },
  {
   "cell_type": "code",
   "execution_count": 42,
   "id": "ee33883c-a851-400f-a3f7-3032abe71d6c",
   "metadata": {},
   "outputs": [
    {
     "name": "stdin",
     "output_type": "stream",
     "text": [
      "Enter the total number of item:  8\n"
     ]
    },
    {
     "name": "stdout",
     "output_type": "stream",
     "text": [
      "The customer has to pay for 4 items.\n"
     ]
    }
   ],
   "source": [
    "total_items = int(input(\"Enter the total number of item: \"))\n",
    "if total_items % 2 == 0:\n",
    "    items_to_pay = total_items//2\n",
    "else:\n",
    "    items_to_pay = total_items\n",
    "print(f\"The customer has to pay for {items_to_pay} items.\")"
   ]
  },
  {
   "cell_type": "markdown",
   "id": "203253c5-c62f-44e0-8919-b912a66710d2",
   "metadata": {},
   "source": [
    "## B- Tax Calculations"
   ]
  },
  {
   "cell_type": "markdown",
   "id": "55cd83bf-fc98-407a-9173-5ac39aaa5583",
   "metadata": {},
   "source": [
    "### 6. Sales Tax\n",
    "- If the price of an item is greater than $500, apply a luxury tax of 15%. Otherwise, apply a\n",
    "standard tax of 8%. Display the total price after tax."
   ]
  },
  {
   "cell_type": "code",
   "execution_count": 58,
   "id": "552e2f20-f9ee-4625-8ebe-aadabbe4bba3",
   "metadata": {},
   "outputs": [
    {
     "name": "stdin",
     "output_type": "stream",
     "text": [
      "Enter the price:  600\n"
     ]
    },
    {
     "name": "stdout",
     "output_type": "stream",
     "text": [
      "Total price after tax: 690.0\n"
     ]
    }
   ],
   "source": [
    "price = int(input(\"Enter the price: \"))\n",
    "if price > 500:\n",
    "    tax = price*0.15\n",
    "    print(f\"Total price after tax: {price+tax}\")\n",
    "else:\n",
    "    tax = price*0.08\n",
    "    print(f\"Total price after tax: {price+tax}\")"
   ]
  },
  {
   "cell_type": "markdown",
   "id": "6cf24055-8fb3-432e-b94b-8bcaf7b06994",
   "metadata": {},
   "source": [
    "### 7. Income Tax\n",
    "- If a person's annual income is above $50,000, they pay 20% tax. Otherwise, they pay\n",
    "10%. Calculate and display the tax amount."
   ]
  },
  {
   "cell_type": "code",
   "execution_count": 67,
   "id": "93d79fc0-e3b7-4d03-98b9-eb8fd450d421",
   "metadata": {},
   "outputs": [
    {
     "name": "stdin",
     "output_type": "stream",
     "text": [
      "Enter your annual income:  70000\n"
     ]
    },
    {
     "name": "stdout",
     "output_type": "stream",
     "text": [
      "The total tax amount on your annual income is: $14000.0\n"
     ]
    }
   ],
   "source": [
    "annual_income = int(input(\"Enter your annual income: \"))\n",
    "if annual_income > 50000:\n",
    "    tax = annual_income*0.20\n",
    "    print(f\"The total tax amount on your annual income is: ${tax}\")\n",
    "else:\n",
    "    tax = annual_income*0.10\n",
    "    print(f\"The total amount on your annual income is: ${tax}\")"
   ]
  },
  {
   "cell_type": "markdown",
   "id": "5369c05b-39b2-491a-9b5c-f7893be14956",
   "metadata": {},
   "source": [
    "### 8. Tax Bracket\n",
    "- Write a program to categorize a person into tax brackets:\n",
    "- Income < $30,000: \"Low Tax\".\n",
    "  \n",
    "- $30,000 ≤ Income < $100,000: \"Medium Tax\".\n",
    "  \n",
    "- Income ≥ $100,000: \"High Tax\""
   ]
  },
  {
   "cell_type": "code",
   "execution_count": 17,
   "id": "237fe92f-07dc-437e-a101-e0bc067d70a6",
   "metadata": {},
   "outputs": [
    {
     "name": "stdin",
     "output_type": "stream",
     "text": [
      "Enter your income:  120000\n"
     ]
    },
    {
     "name": "stdout",
     "output_type": "stream",
     "text": [
      "The Person categorize is: High Tax\n"
     ]
    }
   ],
   "source": [
    "income= int(input(\"Enter your income: \"))\n",
    "tax_bracket =\"\"\n",
    "if income < 30000:\n",
    "    tax_bracket = \"Low Tax\"\n",
    "elif income >= 30000 and income < 100000:\n",
    "    tax_bracket = \"Medium Tax\"\n",
    "else:\n",
    "    categorize = \"High Tax\"\n",
    "print(f\"The Person categorize is: {tax_bracket}\")"
   ]
  },
  {
   "cell_type": "markdown",
   "id": "a491ea3d-871b-4382-8c33-f03c70f7821c",
   "metadata": {},
   "source": [
    "### 9. VAT Calculation\n",
    "- If the item is marked as essential (is_essential = True), apply a VAT of 5%. Otherwise,\n",
    "apply a VAT of 12%. Display the final price.\n"
   ]
  },
  {
   "cell_type": "code",
   "execution_count": 27,
   "id": "c49de479-3682-44aa-abbb-b51194a27171",
   "metadata": {},
   "outputs": [
    {
     "name": "stdin",
     "output_type": "stream",
     "text": [
      "Enter the price of the item:  34534534534\n",
      "Is the item essential? (yes/no):  y es\n"
     ]
    },
    {
     "name": "stdout",
     "output_type": "stream",
     "text": [
      "The final  price of the item is: $38678678678.08\n"
     ]
    }
   ],
   "source": [
    "price = float(input(\"Enter the price of the item: \"))\n",
    "is_essential = input(\"Is the item essential? (yes/no): \").strip().lower()\n",
    "if is_essential == \"yes\":\n",
    "    vat_rate = 0.05\n",
    "else: \n",
    "    vat_rate = 0.12\n",
    "final_price = price + (price*vat_rate)\n",
    "print(f\"The final  price of the item is: ${final_price:.2f}\")"
   ]
  },
  {
   "cell_type": "markdown",
   "id": "66e2a74f-3947-4674-99b6-d7983fbd3bfb",
   "metadata": {},
   "source": [
    "##### 10. Tax-Free Day\n",
    "- If today is a tax-free day (tax_free = True), display the original price. Otherwise, add a\n",
    "7% tax"
   ]
  },
  {
   "cell_type": "code",
   "execution_count": 10,
   "id": "b83b65b1-f695-4b97-aea7-a50bee2064e0",
   "metadata": {},
   "outputs": [
    {
     "name": "stdin",
     "output_type": "stream",
     "text": [
      "Enter the original price:  40000\n",
      "IS it today tax free day? (true/false):  false\n"
     ]
    },
    {
     "name": "stdout",
     "output_type": "stream",
     "text": [
      "The price with tax is 42800.00\n"
     ]
    }
   ],
   "source": [
    "original_price = int(input(\"Enter the original price: \"))\n",
    "tax_status = input(\"IS it today tax free day? (true/false): \").strip().lower()\n",
    "if tax_status == \"true\":\n",
    "    print(f\"The price is {original_price} (tax-free day).\")\n",
    "else:\n",
    "    price_with_tax = original_price*1.07\n",
    "    print(f\"The price with tax is {price_with_tax:.2f}\")\n"
   ]
  },
  {
   "cell_type": "markdown",
   "id": "e25a907b-99c5-4efe-b7fb-e989740270ee",
   "metadata": {},
   "source": [
    "# C- Shopping and Billing"
   ]
  },
  {
   "cell_type": "markdown",
   "id": "f77708c9-9f33-404a-ab5f-8a8cb4c6590d",
   "metadata": {},
   "source": [
    "### 11. Free Shipping\n",
    "- If the total purchase amount is more than $50, offer free shipping; otherwise, charge $5\n",
    "for shipping. Display the total amount including shipping"
   ]
  },
  {
   "cell_type": "code",
   "execution_count": 19,
   "id": "25fe8440-6dd8-442b-b1ef-ad8a58ef461c",
   "metadata": {},
   "outputs": [
    {
     "name": "stdin",
     "output_type": "stream",
     "text": [
      "Enter your purchase amount:  44\n"
     ]
    },
    {
     "name": "stdout",
     "output_type": "stream",
     "text": [
      "The amount with shipping charges: $49\n"
     ]
    }
   ],
   "source": [
    "purchase_amount = int(input(\"Enter your purchase amount: \"))\n",
    "if purchase_amount > 50:\n",
    "    print(f\"The total amount you have to pay; ${purchase_amount}\")\n",
    "else:\n",
    "    print(f\"The amount with shipping charges: ${purchase_amount + 5}\")"
   ]
  },
  {
   "cell_type": "markdown",
   "id": "d2732cac-a3f8-41ed-9702-4685e464a5ec",
   "metadata": {},
   "source": [
    "### 12. Discount Code\n",
    "- If a customer enters the correct discount code (DISCOUNT10), apply a 10% discount.\n",
    "Otherwise, charge the full amount."
   ]
  },
  {
   "cell_type": "code",
   "execution_count": 29,
   "id": "6f66ddf9-ae13-4076-8f78-c06bab09675f",
   "metadata": {},
   "outputs": [
    {
     "name": "stdin",
     "output_type": "stream",
     "text": [
      "Enter amount:  340\n",
      "Enter your discount code:  discount10\n"
     ]
    },
    {
     "name": "stdout",
     "output_type": "stream",
     "text": [
      "The total payable amount is: $306.00\n"
     ]
    }
   ],
   "source": [
    "amount = int(input(\"Enter amount: \"))\n",
    "discount_code = input(\"Enter your discount code: \").strip().upper()\n",
    "if discount_code == \"DISCOUNT10\":\n",
    "    discount = amount*0.10\n",
    "    print(f\"The total payable amount is: ${amount-discount:.2f}\")\n",
    "else:\n",
    "    print(f\"The payable amount: {amount:.2f}\") "
   ]
  },
  {
   "cell_type": "markdown",
   "id": "8e5ea581-98ca-4b21-ab52-08f62a22bef5",
   "metadata": {},
   "source": [
    "### 13. Tiered Discounts\n",
    "- Apply discounts based on the total price:\n",
    "- $0–$50: No discount.\n",
    "- $50–$100: 10% discount.\n",
    "- Over $100: 20% discount."
   ]
  },
  {
   "cell_type": "code",
   "execution_count": 40,
   "id": "2c5bfcfa-ff9f-47ee-91b9-09938a799c48",
   "metadata": {},
   "outputs": [
    {
     "name": "stdin",
     "output_type": "stream",
     "text": [
      "Enter the total amount:  120\n"
     ]
    },
    {
     "name": "stdout",
     "output_type": "stream",
     "text": [
      "The total price: 96.00\n"
     ]
    }
   ],
   "source": [
    "total_price = int(input(\"Enter the total amount: \"))\n",
    "if total_price >=0 and total_price <=50:\n",
    "    print(f\"The total price: {total_price:.2f}\")\n",
    "elif total_price >= 50 and total_price <= 100:\n",
    "    discount = total_price*0.10\n",
    "    print(f\"The total price: {total_price-discount:.2f}\")\n",
    "else:\n",
    "    discount = total_price*0.20\n",
    "    print(f\"The total price: {total_price-discount:.2f}\")"
   ]
  },
  {
   "cell_type": "markdown",
   "id": "b96c036f-722e-4d9e-9335-a55d4a0aa504",
   "metadata": {},
   "source": [
    "### 14. Minimum Purchase Requirement\n",
    "- If the total amount is less than $20, display a message: \"Minimum purchase of $20 is\n",
    "required.\" Otherwise, display the total amount."
   ]
  },
  {
   "cell_type": "code",
   "execution_count": 45,
   "id": "a8829047-f9b2-40ba-9206-f90102ec2634",
   "metadata": {},
   "outputs": [
    {
     "name": "stdin",
     "output_type": "stream",
     "text": [
      "The the total amount:  10\n"
     ]
    },
    {
     "name": "stdout",
     "output_type": "stream",
     "text": [
      "Minimum purchase  of $20  is required.\n"
     ]
    }
   ],
   "source": [
    "total_amount = int(input(\"The the total amount: \"))\n",
    "if total_amount < 20:\n",
    "    print(\"Minimum purchase  of $20  is required.\")\n",
    "else:\n",
    "    print(f\"The total amount is: ${total_amount}\")"
   ]
  },
  {
   "cell_type": "markdown",
   "id": "d8d47705-4a46-461a-bfc4-55b6643423e2",
   "metadata": {},
   "source": [
    "### 15. Loyalty Points\n",
    "- If a customer is a loyal member (is_loyal = True), they earn double loyalty points for\n",
    "their purchase. Otherwise, they earn standard points."
   ]
  },
  {
   "cell_type": "code",
   "execution_count": 1,
   "id": "7af855f4-2aa9-48c0-9c90-7bc900deb7bf",
   "metadata": {},
   "outputs": [
    {
     "name": "stdin",
     "output_type": "stream",
     "text": [
      "Enter purchase amount:  100\n"
     ]
    },
    {
     "name": "stdout",
     "output_type": "stream",
     "text": [
      "Loyalty points earned: 200\n"
     ]
    }
   ],
   "source": [
    "is_loyal = True  \n",
    "purchase_amount = int(input(\"Enter purchase amount: \"))\n",
    "points_per_dollar = 1   \n",
    " \n",
    "if is_loyal:\n",
    "    loyalty_points = purchase_amount * points_per_dollar * 2\n",
    "else:\n",
    "    loyalty_points = purchase_amount * points_per_dollar\n",
    "\n",
    " \n",
    "print(f\"Loyalty points earned: {loyalty_points}\")\n"
   ]
  },
  {
   "cell_type": "markdown",
   "id": "ad2cf137-756d-4818-910f-ec9c51c33ef6",
   "metadata": {},
   "source": [
    "# D- Travel and Tickets"
   ]
  },
  {
   "cell_type": "markdown",
   "id": "3b2ad160-76a9-4cc4-9e63-986aff555f87",
   "metadata": {},
   "source": [
    "#### 16. Travel Discount\n",
    "- If a person is traveling more than 500 miles, offer a 20% discount on ticket price.\n",
    "Otherwise, charge the full amount."
   ]
  },
  {
   "cell_type": "code",
   "execution_count": 12,
   "id": "ba513233-bccc-440b-9c8d-5a4de7bdd6e3",
   "metadata": {},
   "outputs": [
    {
     "name": "stdin",
     "output_type": "stream",
     "text": [
      "Enter your traveling distance (In miles):  700\n",
      "Enter the ticket price:  35000\n"
     ]
    },
    {
     "name": "stdout",
     "output_type": "stream",
     "text": [
      "The amount you have to pay for your ticket is: $28000.00 (after 20% discount)\n"
     ]
    }
   ],
   "source": [
    "traveling_distance = int(input(\"Enter your traveling distance (In miles): \"))\n",
    "ticket_price = float(input(\"Enter the ticket price: \"))\n",
    "if traveling_distance > 500:\n",
    "    discount = ticket_price*0.20\n",
    "    final_price = ticket_price - discount\n",
    "    print(f\"The amount you have to pay for your ticket is: ${final_price:.2f} (after 20% discount)\")\n",
    "else:\n",
    "    print(f\"The amount you have to pay for your ticket is: ${ticket_price:.2f}\")"
   ]
  },
  {
   "cell_type": "markdown",
   "id": "067e2cef-2f44-447e-9127-af32454b328c",
   "metadata": {},
   "source": [
    "### 17. Child or Senior Discount\n",
    "- If a passenger is under 12 or over 60 years old, apply a 15% discount on the ticket price.\n",
    "Otherwise, charge the full price."
   ]
  },
  {
   "cell_type": "code",
   "execution_count": 19,
   "id": "98e2a18d-a84a-4be5-a598-6d5710f31216",
   "metadata": {},
   "outputs": [
    {
     "name": "stdin",
     "output_type": "stream",
     "text": [
      "Enter your ticket price:  34000\n",
      "Enter your age please:  11\n"
     ]
    },
    {
     "name": "stdout",
     "output_type": "stream",
     "text": [
      "The amount you have to pay for your ticket is: $28900.00 (after 15% discount)\n"
     ]
    }
   ],
   "source": [
    "ticket_price = float(input(\"Enter your ticket price: \"))\n",
    "passenger_age = int(input(\"Enter your age please: \"))\n",
    "if passenger_age < 12 or passenger_age> 60:\n",
    "    discount = ticket_price * 0.15\n",
    "    final_price = ticket_price-discount\n",
    "    print(f\"The amount you have to pay for your ticket is: ${final_price:.2f} (after 15% discount)\")\n",
    "else:\n",
    "    print(f\"The amount you have to pay for your ticket is: ${ticket_price:.2f}\")"
   ]
  },
  {
   "cell_type": "markdown",
   "id": "74bb7655-36e6-4cab-9059-7ded6656c98e",
   "metadata": {},
   "source": [
    "### 18. Ticket Type Pricing\n",
    "- If the ticket is for a weekend (is_weekend = True), add a 10% surcharge. Otherwise,\n",
    "charge the standard price."
   ]
  },
  {
   "cell_type": "code",
   "execution_count": 34,
   "id": "bf08ae1b-a291-4c15-ad6f-10fc02ba19ed",
   "metadata": {},
   "outputs": [
    {
     "name": "stdin",
     "output_type": "stream",
     "text": [
      "Enter your ticket price:  24000\n",
      "Is it weekend? (true / false):  true\n"
     ]
    },
    {
     "name": "stdout",
     "output_type": "stream",
     "text": [
      "The amount you have to pay for your ticket is: $26400.00 (after 10% surcharge)\n"
     ]
    }
   ],
   "source": [
    "ticket_price = float(input(\"Enter your ticket price: \"))\n",
    "is_weekend = input(\"Is it weekend? (true / false): \").strip().lower()\n",
    "if is_weekend == \"true\":\n",
    "    surcharge = ticket_price*0.10\n",
    "    final_price = ticket_price + surcharge\n",
    "    print(f\"The amount you have to pay for your ticket is: ${final_price:.2f} (after 10% surcharge)\")\n",
    "elif is_weekend == \"false\":\n",
    "    print(f\"The amount you have to pay for your ticket is: ${ticket_price:.2f}\")\n",
    "else:\n",
    "    print(\"Invalid input. Please enter 'true' or 'false' for the weekend status.\")"
   ]
  },
  {
   "cell_type": "markdown",
   "id": "85413f32-a4af-4bd2-a380-af88879d3e5d",
   "metadata": {},
   "source": [
    "### 19. Baggage Fee\n",
    "- If the total baggage weight is over 20kg, charge $10 per extra kilogram. Otherwise, no\n",
    "extra fee."
   ]
  },
  {
   "cell_type": "code",
   "execution_count": 38,
   "id": "f132259a-8b60-4523-8798-57fb45f1cbe8",
   "metadata": {},
   "outputs": [
    {
     "name": "stdin",
     "output_type": "stream",
     "text": [
      "Enter your ticket price:  43000\n",
      "Please enter your baggage weight: (in KG):  24\n"
     ]
    },
    {
     "name": "stdout",
     "output_type": "stream",
     "text": [
      "The amount you have to pay for your ticket is: $47300.00 (after 10% surcharge)\n"
     ]
    }
   ],
   "source": [
    "ticket_price = float(input(\"Enter your ticket price: \"))\n",
    "baggage_weight = float(input(\"Please enter your baggage weight: (in KG): \"))\n",
    "if baggage_weight > 20:\n",
    "    surcharge = ticket_price*0.10\n",
    "    final_price = ticket_price+surcharge\n",
    "    print(f\"The amount you have to pay for your ticket is: ${final_price:.2f} (after 10% surcharge)\")\n",
    "else:\n",
    "    print(f\"The amount you have to pay for your ticket is: ${ticket_price:.2f}\")\n"
   ]
  },
  {
   "cell_type": "markdown",
   "id": "c60ceb83-bd56-4fae-9b6b-8c952b10a64d",
   "metadata": {},
   "source": [
    "### 20. Early Bird Discount\n",
    "- If a ticket is booked more than 30 days in advance, apply a 10% discount. Otherwise,\n",
    "charge the full price."
   ]
  },
  {
   "cell_type": "code",
   "execution_count": 45,
   "id": "ef294bdb-75c3-458e-8a61-13449d783eae",
   "metadata": {},
   "outputs": [
    {
     "name": "stdin",
     "output_type": "stream",
     "text": [
      "Enter your ticket price:  43000\n",
      "Enter how many days before you have booked your ticket?  34\n"
     ]
    },
    {
     "name": "stdout",
     "output_type": "stream",
     "text": [
      "The amount you have to pay for your ticket is: $38700.00 (after 10% discount)\n"
     ]
    }
   ],
   "source": [
    "ticket_price = float(input(\"Enter your ticket price: \"))\n",
    "if ticket_price <= 0:\n",
    "    print(\"Error: Ticket price must be a positive value.\")\n",
    "else:\n",
    "    booked_days_in_advanced = int(input(\"Enter how many days before you have booked your ticket? \"))\n",
    "    if booked_days_in_advanced < 0:\n",
    "        print(\"Error: Days booked in advance cannot be negative.\")\n",
    "    elif booked_days_in_advanced > 30:\n",
    "        discount = ticket_price * 0.10\n",
    "        final_price = ticket_price - discount\n",
    "        print(f\"The amount you have to pay for your ticket is: ${final_price:.2f} (after 10% discount)\")\n",
    "    else:\n",
    "        print(f\"The amount you have to pay for your ticket is: ${ticket_price:.2f}\")"
   ]
  },
  {
   "cell_type": "markdown",
   "id": "3c682887-3b71-4d08-a41d-78295d8b5e31",
   "metadata": {},
   "source": [
    "# E- Grades and Performance"
   ]
  },
  {
   "cell_type": "markdown",
   "id": "254fd999-9e21-483a-ad80-6e8518a9cc2a",
   "metadata": {},
   "source": [
    "### 21. Pass or Fail\n",
    "- If a student scores 40 or more, print \"Pass\". Otherwise, print \"Fail\"."
   ]
  },
  {
   "cell_type": "code",
   "execution_count": 59,
   "id": "42e73588-2789-4d5d-987e-12497ed34fe0",
   "metadata": {},
   "outputs": [
    {
     "name": "stdin",
     "output_type": "stream",
     "text": [
      "Enter your score you have gained?  33\n"
     ]
    },
    {
     "name": "stdout",
     "output_type": "stream",
     "text": [
      "Fail. Better luck next time!\n",
      "You needed 7.0 more points to pass.\n"
     ]
    }
   ],
   "source": [
    "student_scores = float(input(\"Enter your score you have gained? \"))\n",
    "if student_scores >= 40:\n",
    "    print(\"Pass! Well done!\")\n",
    "    if student_scores >= 90:\n",
    "        print(\"Excellent performance!\")\n",
    "else:\n",
    "    print(\"Fail. Better luck next time!\")\n",
    "    print(f\"You needed {40 - student_scores:.1f} more points to pass.\")"
   ]
  },
  {
   "cell_type": "markdown",
   "id": "3522c481-7815-453e-a806-33d76d97b204",
   "metadata": {},
   "source": [
    "### 22. Grade Assignment\n",
    "- Based on a student's score, assign grades:\n",
    "-   90 and above: \"A\"\n",
    "-   75–89: \"B\"\n",
    "-   50–74: \"C\"\n",
    "-   Below 50: \"F\""
   ]
  },
  {
   "cell_type": "code",
   "execution_count": 74,
   "id": "909d5cfe-a3a9-4c96-9716-544003c99ffb",
   "metadata": {},
   "outputs": [
    {
     "name": "stdin",
     "output_type": "stream",
     "text": [
      "Enter your score which you have gained in your exams:  77\n"
     ]
    },
    {
     "name": "stdout",
     "output_type": "stream",
     "text": [
      "Your grade: B\n"
     ]
    }
   ],
   "source": [
    "student_scores = float(input(\"Enter your score which you have gained in your exams: \"))\n",
    "if student_scores >= 90:\n",
    "    Grade = \"A\"\n",
    "elif 75 <= student_scores < 90:\n",
    "    Grade = \"B\"\n",
    "elif 50 <= student_scores < 75:\n",
    "    Grade = \"C\"\n",
    "else:\n",
    "    Grade = \"F\"\n",
    "print(f\"Your grade: {Grade}\")"
   ]
  },
  {
   "cell_type": "markdown",
   "id": "809a8548-f1ed-4ec3-8226-f49e5b37d5f1",
   "metadata": {},
   "source": [
    "### 23. Bonus Marks\n",
    "- If a student completes all assignments, add 5 bonus marks to their score. Otherwise, no\n",
    "bonus marks."
   ]
  },
  {
   "cell_type": "code",
   "execution_count": 86,
   "id": "18f0291d-7f63-47d5-bd46-bdc407a7e2d2",
   "metadata": {},
   "outputs": [
    {
     "name": "stdin",
     "output_type": "stream",
     "text": [
      "Enter student score:  55\n",
      "Have you completed your assignment? (yes / no):  no\n"
     ]
    },
    {
     "name": "stdout",
     "output_type": "stream",
     "text": [
      "Please complete your assignment.\n"
     ]
    }
   ],
   "source": [
    "student_scores = float(input(\"Enter student score: \"))\n",
    "completion_of_assignment = input(\"Have you completed your assignment? (yes / no): \").strip().lower()\n",
    "\n",
    "if completion_of_assignment == \"yes\":\n",
    "    student_scores += 5\n",
    "    print(f\"Your total score is: {student_scores:.2f}\")\n",
    "elif completion_of_assignment == \"no\":\n",
    "    print(\"Please complete your assignment.\")\n",
    "else:\n",
    "    print(\"Invalid input. Please enter 'yes' or 'no'.\")"
   ]
  },
  {
   "cell_type": "markdown",
   "id": "c90cfd0c-d1e3-4a13-b517-d37a169f2801",
   "metadata": {},
   "source": [
    "### 24. Attendance Eligibility\n",
    "- If a student's attendance is 75% or more, they are eligible to take the exam. Otherwise,\n",
    "they are not."
   ]
  },
  {
   "cell_type": "code",
   "execution_count": 97,
   "id": "efdf8fbb-6e69-4266-94fb-bddbfc40b657",
   "metadata": {},
   "outputs": [
    {
     "name": "stdin",
     "output_type": "stream",
     "text": [
      "Enter your attendance percentage:  9999\n"
     ]
    },
    {
     "name": "stdout",
     "output_type": "stream",
     "text": [
      "Please enter a valid attendance percentage between 0 and 100.\n"
     ]
    }
   ],
   "source": [
    "try:\n",
    "    attendance_percentage = float(input(\"Enter your attendance percentage: \"))\n",
    "    \n",
    "    if attendance_percentage < 0 or attendance_percentage > 100:\n",
    "        print(\"Please enter a valid attendance percentage between 0 and 100.\")\n",
    "    elif attendance_percentage >= 75:\n",
    "        print(\"You are eligible to take the exam.\")\n",
    "    else:\n",
    "        print(\"Sorry, you are not eligible to take the exam.\")\n",
    "        \n",
    "except ValueError:\n",
    "    print(\"Invalid input! Please enter a valid number for the attendance percentage.\")"
   ]
  },
  {
   "cell_type": "markdown",
   "id": "04240aaf-f276-45e9-b1be-ee66db39244d",
   "metadata": {},
   "source": [
    "### 25. Scholarship Eligibility\n",
    "- If a student's grade is \"A\" and their annual family income is below $30,000, they are\n",
    "eligible for a scholarship. Otherwise, they are not."
   ]
  },
  {
   "cell_type": "code",
   "execution_count": 106,
   "id": "ee9a18d7-183d-4226-9b6e-2c5ea3fb8e4c",
   "metadata": {},
   "outputs": [
    {
     "name": "stdin",
     "output_type": "stream",
     "text": [
      "Enter your grade please:  B\n",
      "Enter your family income: (annual) 28000\n"
     ]
    },
    {
     "name": "stdout",
     "output_type": "stream",
     "text": [
      "Sorry, you are not eligible for schoalrship.\n"
     ]
    }
   ],
   "source": [
    "student_grade = input(\"Enter your grade please: \")\n",
    "student_family_income = float(input(\"Enter your family income: (annual)\"))\n",
    "if student_grade == \"A\" and student_family_income < 30000:\n",
    "    print(\"You are eligible for scholarship.\")\n",
    "else:\n",
    "    print(\"Sorry, you are not eligible for schoalrship.\")"
   ]
  },
  {
   "cell_type": "code",
   "execution_count": null,
   "id": "4ff85804-0377-4d2d-8486-1009a4ef4abf",
   "metadata": {},
   "outputs": [],
   "source": []
  }
 ],
 "metadata": {
  "kernelspec": {
   "display_name": "Python 3 (ipykernel)",
   "language": "python",
   "name": "python3"
  },
  "language_info": {
   "codemirror_mode": {
    "name": "ipython",
    "version": 3
   },
   "file_extension": ".py",
   "mimetype": "text/x-python",
   "name": "python",
   "nbconvert_exporter": "python",
   "pygments_lexer": "ipython3",
   "version": "3.12.3"
  }
 },
 "nbformat": 4,
 "nbformat_minor": 5
}
