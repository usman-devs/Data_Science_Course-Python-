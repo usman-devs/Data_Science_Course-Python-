{
 "cells": [
  {
   "cell_type": "markdown",
   "id": "0cf67411-3320-451d-adca-b0f5b971efa0",
   "metadata": {},
   "source": [
    "##### 1. Write a Python function to find the maximum of three numbers. "
   ]
  },
  {
   "cell_type": "code",
   "execution_count": 7,
   "id": "41f26993-aca4-48b1-8273-b70b0b1cfe7e",
   "metadata": {},
   "outputs": [
    {
     "name": "stdout",
     "output_type": "stream",
     "text": [
      "The maximum number is: 25\n"
     ]
    }
   ],
   "source": [
    "def find_maximum(a, b, c):\n",
    "    return max(a, b, c)\n",
    "    \n",
    "num1 = 10\n",
    "num2 = 25\n",
    "num3 = 15\n",
    "\n",
    "print(\"The maximum number is:\", find_maximum(num1, num2, num3))"
   ]
  },
  {
   "cell_type": "markdown",
   "id": "121f71c8-1324-46a7-a164-c889874d7148",
   "metadata": {},
   "source": [
    "##### 2.Write a Python function to sum all the numbers in a list. Sample List : (8, 2, 3, 0, 7) Expected Output : 20 \n"
   ]
  },
  {
   "cell_type": "code",
   "execution_count": 10,
   "id": "7e692daa-5d45-4825-96e1-555e48031e7f",
   "metadata": {},
   "outputs": [
    {
     "name": "stdout",
     "output_type": "stream",
     "text": [
      "Expected Output: 20\n"
     ]
    }
   ],
   "source": [
    "def sum_of_list(numbers):\n",
    "    return sum(numbers)\n",
    "\n",
    "sample_list = [8, 2, 3, 0, 7]\n",
    "\n",
    "print(\"Expected Output:\", sum_of_list(sample_list))\n"
   ]
  },
  {
   "cell_type": "markdown",
   "id": "bda6c6a9-edb2-46ed-95b4-d28f179d35b7",
   "metadata": {},
   "source": [
    "##### 3.Write a Python function to multiply all the numbers in a list. Sample List : (8, 2, 3, -1, 7) Expected Output : -336"
   ]
  },
  {
   "cell_type": "code",
   "execution_count": 16,
   "id": "1f3aac09-79c5-4131-b739-2b7e02090ab6",
   "metadata": {},
   "outputs": [
    {
     "name": "stdout",
     "output_type": "stream",
     "text": [
      "Expected Output: -336\n"
     ]
    }
   ],
   "source": [
    "def multiply_list(numbers):\n",
    "    result = 1\n",
    "    for num in numbers:\n",
    "        result *= num\n",
    "    return result\n",
    "\n",
    "sample_list = [8, 2, 3, -1, 7]\n",
    "\n",
    "print(\"Expected Output:\", multiply_list(sample_list))"
   ]
  },
  {
   "cell_type": "markdown",
   "id": "5bc25eb2-be51-43f6-b444-9ed036ccc221",
   "metadata": {},
   "source": [
    "##### 4. Write a Python program to reverse a string. Sample String : \"1234abcd\" Expected Output : \"dcba4321\" "
   ]
  },
  {
   "cell_type": "code",
   "execution_count": 19,
   "id": "e6f3d877-9745-4700-911c-dc4e9f27685e",
   "metadata": {},
   "outputs": [
    {
     "name": "stdout",
     "output_type": "stream",
     "text": [
      "Reversed String: dcba4321\n"
     ]
    }
   ],
   "source": [
    "sample_string = \"1234abcd\"\n",
    "\n",
    "reversed_string = sample_string[::-1]\n",
    "\n",
    "print(\"Reversed String:\", reversed_string)"
   ]
  },
  {
   "cell_type": "markdown",
   "id": "290bd7f9-7ee9-4b2c-8aef-34861bb780bc",
   "metadata": {},
   "source": [
    "##### 5.  Write a Python function to calculate the factorial of a number (a non-negative integer). The function accepts the number as an argument."
   ]
  },
  {
   "cell_type": "code",
   "execution_count": 22,
   "id": "9aeb03e9-84d3-47ce-8f86-533685e245de",
   "metadata": {},
   "outputs": [
    {
     "name": "stdout",
     "output_type": "stream",
     "text": [
      "The factorial of 5 is: 120\n"
     ]
    }
   ],
   "source": [
    "def factorial(num):\n",
    "    if num < 0:\n",
    "        return \"Factorial is not defined for negative numbers.\"\n",
    "    elif num == 0 or num == 1:\n",
    "        return 1\n",
    "    else:\n",
    "        result = 1\n",
    "        for i in range(2, num + 1):\n",
    "            result *= i\n",
    "        return result\n",
    "number = 5\n",
    "print(f\"The factorial of {number} is: {factorial(number)}\")"
   ]
  },
  {
   "cell_type": "markdown",
   "id": "fb5599c1-e52b-428b-ad5d-a3a403ccfd20",
   "metadata": {},
   "source": [
    "##### 6. Write a Python function to check whether a number falls within a given range"
   ]
  },
  {
   "cell_type": "code",
   "execution_count": 25,
   "id": "6e4e06df-d5a2-4d7b-9e12-f445c53cd404",
   "metadata": {},
   "outputs": [
    {
     "name": "stdout",
     "output_type": "stream",
     "text": [
      "Is 7 within the range 5 to 10? True\n"
     ]
    }
   ],
   "source": [
    "def is_within_range(num, start, end):\n",
    "    return start <= num <= end\n",
    "\n",
    "number = 7\n",
    "range_start = 5\n",
    "range_end = 10\n",
    "print(f\"Is {number} within the range {range_start} to {range_end}? {is_within_range(number, range_start, range_end)}\")"
   ]
  },
  {
   "cell_type": "markdown",
   "id": "49a20351-e2ba-4366-8b5e-c34b464c8921",
   "metadata": {},
   "source": [
    "##### 7. Write a Python function that accepts a string and counts the number of upper and lower case letters. \n",
    "##### Sample String : 'The quick Brow Fox' \n",
    "##### Expected Output : \n",
    "##### No. of Upper case characters : 3 \n",
    "##### No. of Lower case Characters : 12 \n"
   ]
  },
  {
   "cell_type": "code",
   "execution_count": 28,
   "id": "842cdb38-ec7b-4b9a-9c77-9717974f69f7",
   "metadata": {},
   "outputs": [
    {
     "name": "stdout",
     "output_type": "stream",
     "text": [
      "No. of Upper case characters: 3\n",
      "No. of Lower case characters: 12\n"
     ]
    }
   ],
   "source": [
    "def count_case_letters(s):\n",
    "    upper_case_count = 0\n",
    "    lower_case_count = 0\n",
    "\n",
    "    for char in s:\n",
    "        if char.isupper():\n",
    "            upper_case_count += 1\n",
    "        elif char.islower():\n",
    "            lower_case_count += 1\n",
    "\n",
    "    return upper_case_count, lower_case_count\n",
    "\n",
    "sample_string = 'The quick Brow Fox'\n",
    "upper, lower = count_case_letters(sample_string)\n",
    "\n",
    "print(f\"No. of Upper case characters: {upper}\")\n",
    "print(f\"No. of Lower case characters: {lower}\")"
   ]
  },
  {
   "cell_type": "markdown",
   "id": "7d59eb6a-3c80-4bae-81f9-09a2060cff18",
   "metadata": {},
   "source": [
    "##### 8. Write a Python function that takes a list and returns a new list with distinct elements from the first list. \n",
    "- Sample List : [1,2,3,3,3,3,4,5] \n",
    "- Unique List : [1, 2, 3, 4, 5] "
   ]
  },
  {
   "cell_type": "code",
   "execution_count": 31,
   "id": "a92c5f1d-93e5-40ed-8cd6-a543c5127243",
   "metadata": {},
   "outputs": [
    {
     "name": "stdout",
     "output_type": "stream",
     "text": [
      "Unique List: [1, 2, 3, 4, 5]\n"
     ]
    }
   ],
   "source": [
    "def get_unique_elements(input_list):\n",
    "    unique_list = list(set(input_list))\n",
    "    return unique_list\n",
    "\n",
    "sample_list = [1, 2, 3, 3, 3, 3, 4, 5]\n",
    "unique_list = get_unique_elements(sample_list)\n",
    "\n",
    "print(\"Unique List:\", unique_list)"
   ]
  },
  {
   "cell_type": "markdown",
   "id": "7d8ca088-1525-43a6-98ba-4264bd63f791",
   "metadata": {},
   "source": [
    "##### 9. Write a Python function that takes a number as a parameter and checks whether the number is prime or not. \n",
    "##### Note : A prime number (or a prime) is a natural number greater than 1 and that has no positive divisors other than 1 and itself. \n"
   ]
  },
  {
   "cell_type": "code",
   "execution_count": 34,
   "id": "13cdd76b-2bd6-4e13-979d-423c8988a6b2",
   "metadata": {},
   "outputs": [
    {
     "name": "stdout",
     "output_type": "stream",
     "text": [
      "11 is a prime number.\n"
     ]
    }
   ],
   "source": [
    "def is_prime(num):\n",
    "    if num <= 1:\n",
    "        return False\n",
    "    \n",
    "    for i in range(2, int(num ** 0.5) + 1):\n",
    "        if num % i == 0:\n",
    "            return False\n",
    "    \n",
    "    return True\n",
    "\n",
    "number = 11\n",
    "if is_prime(number):\n",
    "    print(f\"{number} is a prime number.\")\n",
    "else:\n",
    "    print(f\"{number} is not a prime number.\")"
   ]
  },
  {
   "cell_type": "markdown",
   "id": "197d78d9-3c5e-48bb-b115-975aad8538ae",
   "metadata": {},
   "source": [
    "##### 10. Write a Python program to print the even numbers from a given list. \n",
    "##### Sample List : [1, 2, 3, 4, 5, 6, 7, 8, 9]\n",
    "##### Expected Result : [2, 4, 6, 8] "
   ]
  },
  {
   "cell_type": "code",
   "execution_count": 37,
   "id": "2d182e25-5e96-40d5-a429-d45da0408260",
   "metadata": {},
   "outputs": [
    {
     "name": "stdout",
     "output_type": "stream",
     "text": [
      "Even numbers: [2, 4, 6, 8]\n"
     ]
    }
   ],
   "source": [
    "def even_numbers(input_list):\n",
    "   \n",
    "    return [num for num in input_list if num % 2 == 0]\n",
    "\n",
    "sample_list = [1, 2, 3, 4, 5, 6, 7, 8, 9]\n",
    "even_nums = even_numbers(sample_list)\n",
    "\n",
    "print(\"Even numbers:\", even_nums)"
   ]
  },
  {
   "cell_type": "markdown",
   "id": "e43fdfc7-3941-478d-a298-a78da1383de3",
   "metadata": {},
   "source": [
    "##### 11. Write a Python function to check whether a number is \"Perfect\" or not. According to Wikipedia : In number theory, a perfect number is a positive integer that is equal to the sum of its proper positive divisors, that is, the sum of its positive divisors excluding the number itself (also known as its aliquot sum). Equivalently, a perfect number is a number that is half the sum of all of its positive divisors (including itself). Example : The first perfect number is 6, because 1, 2, and 3 are its proper positive divisors, and 1 + 2 + 3 = 6. Equivalently, the number 6 is equal to half the sum of all its positive divisors: ( 1 + 2 + 3 + 6 ) / 2 = 6. The next perfect number is 28 = 1 + 2 + 4 + 7 + 14. This is followed by the perfect numbers 496 and 8128. \n"
   ]
  },
  {
   "cell_type": "code",
   "execution_count": 40,
   "id": "c864d8bf-b18e-4558-a860-6d7733e12dfd",
   "metadata": {},
   "outputs": [
    {
     "name": "stdout",
     "output_type": "stream",
     "text": [
      "True\n",
      "True\n",
      "True\n",
      "False\n"
     ]
    }
   ],
   "source": [
    "def is_perfect_number(num):\n",
    "    if num <= 1:\n",
    "        return False\n",
    "    \n",
    "    divisors_sum = 0\n",
    "    for i in range(1, num):\n",
    "        if num % i == 0:\n",
    "            divisors_sum += i\n",
    "\n",
    "    return divisors_sum == num\n",
    "\n",
    "print(is_perfect_number(6))   # True (6 is a perfect number)\n",
    "print(is_perfect_number(28))  # True (28 is a perfect number)\n",
    "print(is_perfect_number(496)) # True (496 is a perfect number)\n",
    "print(is_perfect_number(12))  # False (12 is not a perfect number)"
   ]
  },
  {
   "cell_type": "markdown",
   "id": "ff497de6-dc83-442f-8163-cd6bc42d8eba",
   "metadata": {},
   "source": [
    "##### 12. Write a Python function that checks whether a passed string is a palindrome or not. \n",
    "##### Note: A palindrome is a word, phrase, or sequence that reads the same backward as forward, e.g., madam or nurses run. "
   ]
  },
  {
   "cell_type": "code",
   "execution_count": 43,
   "id": "bb8b350e-b7c0-4125-8e6f-902940e45bf3",
   "metadata": {},
   "outputs": [
    {
     "name": "stdout",
     "output_type": "stream",
     "text": [
      "True\n",
      "True\n",
      "False\n"
     ]
    }
   ],
   "source": [
    "def is_palindrome(s):\n",
    "    s = s.replace(\" \", \"\").lower()\n",
    "\n",
    "    return s == s[::-1]\n",
    "\n",
    "print(is_palindrome(\"madam\"))        # True (madam is a palindrome)\n",
    "print(is_palindrome(\"nurses run\"))   # True (nurses run is a palindrome)\n",
    "print(is_palindrome(\"hello\"))        # False (hello is not a palindrome)"
   ]
  }
 ],
 "metadata": {
  "kernelspec": {
   "display_name": "Python 3 (ipykernel)",
   "language": "python",
   "name": "python3"
  },
  "language_info": {
   "codemirror_mode": {
    "name": "ipython",
    "version": 3
   },
   "file_extension": ".py",
   "mimetype": "text/x-python",
   "name": "python",
   "nbconvert_exporter": "python",
   "pygments_lexer": "ipython3",
   "version": "3.12.3"
  }
 },
 "nbformat": 4,
 "nbformat_minor": 5
}
