{
 "cells": [
  {
   "cell_type": "markdown",
   "id": "9e3c2bbc-440a-4633-815a-8c1b17fca500",
   "metadata": {},
   "source": [
    "#### Task1: \n",
    "##### You need to write a function in python that return all such numbers which are divisible by 7 but are not a multiple of 5, between 2000 and 3200 (both included). Return the obtained numbers in a comma-separated sequence on a single line. \n"
   ]
  },
  {
   "cell_type": "code",
   "execution_count": 1,
   "id": "696a41f0-2fb2-4df7-8331-fbe8e2bfa616",
   "metadata": {},
   "outputs": [
    {
     "name": "stdout",
     "output_type": "stream",
     "text": [
      "2002,2009,2016,2023,2037,2044,2051,2058,2072,2079,2086,2093,2107,2114,2121,2128,2142,2149,2156,2163,2177,2184,2191,2198,2212,2219,2226,2233,2247,2254,2261,2268,2282,2289,2296,2303,2317,2324,2331,2338,2352,2359,2366,2373,2387,2394,2401,2408,2422,2429,2436,2443,2457,2464,2471,2478,2492,2499,2506,2513,2527,2534,2541,2548,2562,2569,2576,2583,2597,2604,2611,2618,2632,2639,2646,2653,2667,2674,2681,2688,2702,2709,2716,2723,2737,2744,2751,2758,2772,2779,2786,2793,2807,2814,2821,2828,2842,2849,2856,2863,2877,2884,2891,2898,2912,2919,2926,2933,2947,2954,2961,2968,2982,2989,2996,3003,3017,3024,3031,3038,3052,3059,3066,3073,3087,3094,3101,3108,3122,3129,3136,3143,3157,3164,3171,3178,3192,3199\n"
     ]
    }
   ],
   "source": [
    "def find_numbers():\n",
    "    result = []\n",
    "    for num in range(2000, 3201):\n",
    "        if num % 7 == 0 and num % 5 != 0:\n",
    "            result.append(str(num))\n",
    "    return ','.join(result)\n",
    "\n",
    "print(find_numbers())"
   ]
  },
  {
   "cell_type": "markdown",
   "id": "2c6ef23f-9fa2-412d-b4be-e988753b4688",
   "metadata": {},
   "source": [
    "##### Task2: \n",
    "##### You need code a function that calculates and returns the value according to the given formula: P = Square root of [(2 * A * B)/C] Following are the fixed values of A and B: A is 50. B is 30. The values of the literal C should be taken as console input to your program in a comma-separated sequence. \n",
    "##### Example \n",
    "##### Let us assume the following comma separated input sequence is given to the \n",
    "- program: \n",
    "- 100,150,180 \n",
    "- The output of the program should be: \n",
    "- 18,22,24 \n"
   ]
  },
  {
   "cell_type": "code",
   "execution_count": 4,
   "id": "fa35b606-def3-4459-92b6-756a64156745",
   "metadata": {},
   "outputs": [
    {
     "name": "stdin",
     "output_type": "stream",
     "text": [
      "Enter the values of C (comma-separated):  3,34,65,32\n"
     ]
    },
    {
     "name": "stdout",
     "output_type": "stream",
     "text": [
      "31,9,6,9\n"
     ]
    }
   ],
   "source": [
    "import math\n",
    "\n",
    "def calculate_P(C_values):\n",
    "    \n",
    "    A = 50\n",
    "    B = 30\n",
    "    \n",
    "    C_list = map(int, C_values.split(','))\n",
    "    \n",
    "    result = []\n",
    "    \n",
    "    for C in C_list:\n",
    "        P = math.sqrt((2 * A * B) / C)\n",
    "        result.append(str(int(P)))  # Convert P to an integer and then to a string for output\n",
    "    \n",
    "    return ','.join(result)\n",
    "\n",
    "input_values = input(\"Enter the values of C (comma-separated): \")\n",
    "print(calculate_P(input_values))"
   ]
  },
  {
   "cell_type": "markdown",
   "id": "55de76d4-fed6-489d-beae-5dcc1ab8a9b7",
   "metadata": {},
   "source": [
    "#### Task3: \n",
    "##### You need to write a function that takes a comma separated sequence of words as input and prints the words in a comma-separated sequence after sorting them alphabetically. Suppose the following input is supplied to the program: \n",
    "- without,hello,bag,world \n",
    "- Then, the output should be: \n",
    "- bag,hello,without,world \n"
   ]
  },
  {
   "cell_type": "code",
   "execution_count": 7,
   "id": "7ebccc5f-5a1b-43cf-9355-f0f57aff5a55",
   "metadata": {},
   "outputs": [
    {
     "name": "stdout",
     "output_type": "stream",
     "text": [
      "bag,hello,without,world\n"
     ]
    }
   ],
   "source": [
    "def sort_words(input_string):\n",
    "    words = input_string.split(',')\n",
    "    words.sort()\n",
    "    \n",
    "    print(','.join(words))\n",
    "\n",
    "input_string = \"without,hello,bag,world\"\n",
    "sort_words(input_string)"
   ]
  },
  {
   "cell_type": "markdown",
   "id": "4afd67b4-cf0e-438a-98bd-3a5b67620ba0",
   "metadata": {},
   "source": [
    "#### Task4: \n",
    "##### You need to write a program that takes sequence of lines as input and prints the lines after making all characters in the sentence capitalized. Suppose the following input is supplied to the program: \n",
    "- Hello world \n",
    "- Practice makes perfect \n",
    "- Then, the output should be: \n",
    "- HELLO WORLD \n",
    "- PRACTICE MAKES PERFECT \n"
   ]
  },
  {
   "cell_type": "code",
   "execution_count": 12,
   "id": "cffcf743-4c48-4181-b1a1-c8ebda2b06d5",
   "metadata": {},
   "outputs": [
    {
     "name": "stdin",
     "output_type": "stream",
     "text": [
      " Hello world\n"
     ]
    },
    {
     "name": "stdout",
     "output_type": "stream",
     "text": [
      "HELLO WORLD\n"
     ]
    },
    {
     "name": "stdin",
     "output_type": "stream",
     "text": [
      " Practice makes perfect\n"
     ]
    },
    {
     "name": "stdout",
     "output_type": "stream",
     "text": [
      "PRACTICE MAKES PERFECT\n"
     ]
    },
    {
     "name": "stdin",
     "output_type": "stream",
     "text": [
      " \n"
     ]
    }
   ],
   "source": [
    "def capitalize_lines():\n",
    "    while True:\n",
    "        try:\n",
    "            line = input()\n",
    "            if line == \"\":\n",
    "                break\n",
    "            print(line.upper())  # Print the line with all characters in uppercase\n",
    "        except EOFError:\n",
    "            break\n",
    "\n",
    "capitalize_lines()"
   ]
  },
  {
   "cell_type": "markdown",
   "id": "36ed6473-33b7-4dee-bb5c-48aada13fd2e",
   "metadata": {},
   "source": [
    "#### Task5: \n",
    "##### You need to write a function that counts the number of vowels in a given sentence as input from console. Suppose the following input is supplied to the program: \n",
    "- Hello world \n",
    "- Practice makes perfect \n",
    "- Then, the output should be: \n",
    "- a appeared 2 times \n",
    "- e appeared 5 times \n",
    "- i appeared 1 time \n",
    "- o appeared 2 times \n",
    "- u appeared 0 time \n",
    "- PRACTICE MAKES PERFECT"
   ]
  },
  {
   "cell_type": "code",
   "execution_count": 16,
   "id": "1ea75e3b-e1f5-4d02-8b1e-c1b4cdc9607c",
   "metadata": {},
   "outputs": [
    {
     "name": "stdin",
     "output_type": "stream",
     "text": [
      "Enter a sentence:  usman\n"
     ]
    },
    {
     "name": "stdout",
     "output_type": "stream",
     "text": [
      "a appeared 1 time\n",
      "e appeared 0 times\n",
      "i appeared 0 times\n",
      "o appeared 0 times\n",
      "u appeared 1 time\n",
      "USMAN\n"
     ]
    }
   ],
   "source": [
    "def count_vowels(sentence):\n",
    "    vowels = \"aeiouAEIOU\"\n",
    "    \n",
    "    vowel_count = {\"a\": 0, \"e\": 0, \"i\": 0, \"o\": 0, \"u\": 0}\n",
    "    \n",
    "    for char in sentence:\n",
    "        if char.lower() in vowels:\n",
    "            vowel_count[char.lower()] += 1\n",
    "    \n",
    "    for vowel in vowel_count:\n",
    "        print(f\"{vowel} appeared {vowel_count[vowel]} time{'s' if vowel_count[vowel] != 1 else ''}\")\n",
    "    \n",
    "    print(sentence.upper())\n",
    "\n",
    "sentence = input(\"Enter a sentence: \")\n",
    "count_vowels(sentence)"
   ]
  },
  {
   "cell_type": "markdown",
   "id": "9728dd81-d0d9-4baa-8da2-30c03967b8e0",
   "metadata": {},
   "source": [
    "#### Task6: \n",
    "##### You need write a function that traces and makes a list of all such numbers from1000 to 3000 in which all the digits are even numbers. "
   ]
  },
  {
   "cell_type": "code",
   "execution_count": 20,
   "id": "847b152a-36cf-4e07-97b1-dd87534f46de",
   "metadata": {},
   "outputs": [
    {
     "name": "stdout",
     "output_type": "stream",
     "text": [
      "[2000, 2002, 2004, 2006, 2008, 2020, 2022, 2024, 2026, 2028, 2040, 2042, 2044, 2046, 2048, 2060, 2062, 2064, 2066, 2068, 2080, 2082, 2084, 2086, 2088, 2200, 2202, 2204, 2206, 2208, 2220, 2222, 2224, 2226, 2228, 2240, 2242, 2244, 2246, 2248, 2260, 2262, 2264, 2266, 2268, 2280, 2282, 2284, 2286, 2288, 2400, 2402, 2404, 2406, 2408, 2420, 2422, 2424, 2426, 2428, 2440, 2442, 2444, 2446, 2448, 2460, 2462, 2464, 2466, 2468, 2480, 2482, 2484, 2486, 2488, 2600, 2602, 2604, 2606, 2608, 2620, 2622, 2624, 2626, 2628, 2640, 2642, 2644, 2646, 2648, 2660, 2662, 2664, 2666, 2668, 2680, 2682, 2684, 2686, 2688, 2800, 2802, 2804, 2806, 2808, 2820, 2822, 2824, 2826, 2828, 2840, 2842, 2844, 2846, 2848, 2860, 2862, 2864, 2866, 2868, 2880, 2882, 2884, 2886, 2888]\n"
     ]
    }
   ],
   "source": [
    "def all_even_digits():\n",
    "    even_numbers = []\n",
    "    \n",
    "    for num in range(1000, 3001):\n",
    "        str_num = str(num)\n",
    "        if all(int(digit) % 2 == 0 for digit in str_num):\n",
    "            even_numbers.append(num)\n",
    "    \n",
    "    return even_numbers\n",
    "result = all_even_digits()\n",
    "print(result)"
   ]
  },
  {
   "cell_type": "markdown",
   "id": "6c37c3cc-e416-4743-9791-b1d84b3ea1a3",
   "metadata": {},
   "source": [
    "#### Task7: \n",
    "##### You need to write a code which accepts a sequence of comma separated 4 digit binary numbers as its input and then check whether they are divisible by 5 or not.The numbers that are divisible by 5 are to be printed in a comma separated sequence. \n",
    "- Example: \n",
    "- 0100,0011,1010,1001 \n",
    "- Then the output should be: \n",
    "- 1010 "
   ]
  },
  {
   "cell_type": "code",
   "execution_count": 23,
   "id": "9927a2ac-da9e-4575-b6f0-8de6e29de13c",
   "metadata": {},
   "outputs": [
    {
     "name": "stdin",
     "output_type": "stream",
     "text": [
      "Enter binary numbers (comma-separated):  1111,0110,1010,0011\n"
     ]
    },
    {
     "name": "stdout",
     "output_type": "stream",
     "text": [
      "1111,1010\n"
     ]
    }
   ],
   "source": [
    "def check_divisible_by_5():\n",
    "    binary_numbers = input(\"Enter binary numbers (comma-separated): \").split(',')\n",
    "    \n",
    "    divisible_by_5 = []\n",
    "    \n",
    "    for binary in binary_numbers:\n",
    "        decimal = int(binary, 2)\n",
    "        \n",
    "        if decimal % 5 == 0:\n",
    "            divisible_by_5.append(binary)\n",
    "    \n",
    "    print(','.join(divisible_by_5))\n",
    "check_divisible_by_5()"
   ]
  },
  {
   "cell_type": "markdown",
   "id": "ed333ad5-6369-4e07-b872-aa703e2a576a",
   "metadata": {},
   "source": [
    "#### Task8: \n",
    "##### Write a program that accepts a sentence and calculate the number of letters and digits. Suppose the following input is supplied to the program: \n",
    "- hello world! 123 \n",
    "- Then, the output should be: \n",
    "- LETTERS 10 \n",
    "- DIGITS 3"
   ]
  },
  {
   "cell_type": "code",
   "execution_count": 26,
   "id": "78482fa7-fb45-432c-af68-66d80b8fb24c",
   "metadata": {},
   "outputs": [
    {
     "name": "stdin",
     "output_type": "stream",
     "text": [
      "Enter a sentence:  usman\n"
     ]
    },
    {
     "name": "stdout",
     "output_type": "stream",
     "text": [
      "LETTERS 5\n",
      "DIGITS 0\n"
     ]
    }
   ],
   "source": [
    "def count_letters_digits(sentence):\n",
    "    letters = 0\n",
    "    digits = 0\n",
    "    \n",
    "    for char in sentence:\n",
    "        if char.isalpha():  # Checks if the character is a letter\n",
    "            letters += 1\n",
    "        elif char.isdigit():  # Checks if the character is a digit\n",
    "            digits += 1\n",
    "    \n",
    "    print(\"LETTERS\", letters)\n",
    "    print(\"DIGITS\", digits)\n",
    "\n",
    "sentence = input(\"Enter a sentence: \")\n",
    "\n",
    "count_letters_digits(sentence)"
   ]
  },
  {
   "cell_type": "code",
   "execution_count": null,
   "id": "5bbaa00d-e6bf-4c36-8260-02ed0c23e3fd",
   "metadata": {},
   "outputs": [],
   "source": []
  }
 ],
 "metadata": {
  "kernelspec": {
   "display_name": "Python 3 (ipykernel)",
   "language": "python",
   "name": "python3"
  },
  "language_info": {
   "codemirror_mode": {
    "name": "ipython",
    "version": 3
   },
   "file_extension": ".py",
   "mimetype": "text/x-python",
   "name": "python",
   "nbconvert_exporter": "python",
   "pygments_lexer": "ipython3",
   "version": "3.12.3"
  }
 },
 "nbformat": 4,
 "nbformat_minor": 5
}
